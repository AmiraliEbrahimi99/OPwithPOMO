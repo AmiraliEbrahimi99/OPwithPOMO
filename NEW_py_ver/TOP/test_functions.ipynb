{
 "cells": [
  {
   "cell_type": "markdown",
   "id": "9f002c31-1aaa-4b9d-a894-26263d887d96",
   "metadata": {},
   "source": [
    "# test problem def "
   ]
  },
  {
   "cell_type": "code",
   "execution_count": 21,
   "id": "b3231c17",
   "metadata": {},
   "outputs": [
    {
     "data": {
      "text/plain": [
       "tensor([[0., 0., 0., 3., 7., 5., 7., 6.],\n",
       "        [0., 0., 0., 9., 3., 4., 9., 5.],\n",
       "        [0., 0., 0., 9., 7., 5., 1., 8.]])"
      ]
     },
     "execution_count": 21,
     "metadata": {},
     "output_type": "execute_result"
    }
   ],
   "source": [
    "import torch\n",
    "import numpy as np\n",
    "\n",
    "batch_size = 3  \n",
    "problem_size = 5 \n",
    "hotel_num = 3\n",
    "\n",
    "hotel_xy = torch.rand(size=(batch_size, hotel_num ,2))\n",
    "node_xy = torch.rand(size=(batch_size, problem_size, 2))\n",
    "node_prize = torch.randint(1, 10, size=(batch_size, problem_size))\n",
    "\n",
    "hotel_node_xy = torch.cat((hotel_xy, node_xy), dim=1)\n",
    "# shape: (batch, problem+1, 2)\n",
    "hotel_prize = torch.zeros(size=(batch_size, hotel_num))\n",
    "# shape: (batch, 1)\n",
    "hotel_node_prize = torch.cat((hotel_prize, node_prize), dim=1)\n",
    "hotel_node_prize\n",
    "# shape: (batch, problem+1)\n",
    "# print(depot_node_xy)\n",
    "# depot_xy\n",
    "# print(node_xy,'\\n', depot_xy)"
   ]
  },
  {
   "cell_type": "code",
   "execution_count": 31,
   "id": "b84d106f",
   "metadata": {},
   "outputs": [
    {
     "data": {
      "text/plain": [
       "tensor([[[0.5972, 0.1584],\n",
       "         [0.5972, 0.1584],\n",
       "         [0.5972, 0.1584],\n",
       "         [0.5972, 0.1584],\n",
       "         [0.5972, 0.1584]],\n",
       "\n",
       "        [[0.8160, 0.6109],\n",
       "         [0.8160, 0.6109],\n",
       "         [0.8160, 0.6109],\n",
       "         [0.8160, 0.6109],\n",
       "         [0.8160, 0.6109]],\n",
       "\n",
       "        [[0.0173, 0.7479],\n",
       "         [0.0173, 0.7479],\n",
       "         [0.0173, 0.7479],\n",
       "         [0.0173, 0.7479],\n",
       "         [0.0173, 0.7479]]])"
      ]
     },
     "execution_count": 31,
     "metadata": {},
     "output_type": "execute_result"
    }
   ],
   "source": [
    "import torch\n",
    "import numpy as np\n",
    "\n",
    "batch_size = 3  \n",
    "problem_size = 5 \n",
    "hotel_num = 1\n",
    "\n",
    "hotel_xy = torch.rand(size=(batch_size, hotel_num ,2))\n",
    "node_xy = torch.rand(size=(batch_size, problem_size, 2))\n",
    "hotel_xy_expanded = hotel_xy.expand_as(node_xy)\n",
    "# print(hotel_xy.shape)\n",
    "# print(hotel_xy,'\\n',node_xy)\n",
    "hotel_xy_expanded"
   ]
  },
  {
   "cell_type": "code",
   "execution_count": 56,
   "id": "b0d157df",
   "metadata": {},
   "outputs": [
    {
     "data": {
      "text/plain": [
       "tensor([[[0.3186, 0.3746, 0.4369, 0.3488, 0.4246],\n",
       "         [0.7003, 0.2189, 0.6276, 0.3376, 0.8892],\n",
       "         [0.3402, 0.6624, 0.1179, 0.7312, 0.9155],\n",
       "         [0.0970, 0.7165, 0.2962, 0.7192, 0.6041],\n",
       "         [0.7738, 0.5624, 0.9217, 0.4450, 0.3011]],\n",
       "\n",
       "        [[0.4981, 0.5975, 0.3849, 0.2049, 0.1452],\n",
       "         [0.5913, 0.3085, 1.0833, 0.6255, 0.7759],\n",
       "         [0.5785, 0.7794, 0.2411, 0.3833, 0.2297],\n",
       "         [0.0608, 0.5504, 0.5130, 0.3531, 0.3036],\n",
       "         [0.7204, 0.9456, 0.2427, 0.5504, 0.3918]]])"
      ]
     },
     "execution_count": 56,
     "metadata": {},
     "output_type": "execute_result"
    }
   ],
   "source": [
    "import torch\n",
    "import numpy as np\n",
    "\n",
    "batch_size = 2  \n",
    "problem_size = 5 \n",
    "hotel_num = 5\n",
    "\n",
    "hotel_xy = torch.rand(size=(batch_size, hotel_num ,2))\n",
    "node_xy = torch.rand(size=(batch_size, problem_size, 2))\n",
    "\n",
    "hotel_xy_expanded = hotel_xy.unsqueeze(dim=2).expand(-1,-1,problem_size,-1)\n",
    "# print(hotel_xy_expanded.shape)\n",
    "node_xy_expanded = node_xy.unsqueeze(dim=1).expand(-1,hotel_num,-1,-1)\n",
    "# print(node_xy_expanded.shape)\n",
    "# hotel_xy_expanded = hotel_xy.expand_as(node_xy)\n",
    "# squared_diff = (hotel_xy_expanded - node_xy) ** 2\n",
    "\n",
    "squared_diff = (hotel_xy_expanded - node_xy_expanded) ** 2\n",
    "#shape: (batch, hotel, problem, 2)\n",
    "distance_sums = torch.sum(squared_diff, dim=3)\n",
    "#shape: (batch, problem)\n",
    "\n",
    "# Square root to get the Euclidean distances\n",
    "len_to_hotel = torch.sqrt(distance_sums)\n",
    "# hotel_xy_expandedd = len_to_hotel.unsqueeze(dim=2).expand(-1,-1,problem_size,-1)\n",
    "\n",
    "# hotel_xy_expandedd\n",
    "len_to_hotel\n",
    "# hotel_xy_expanded = hotel_xy.expand_as(node_xy)\n",
    "# print(hotel_xy.shape)\n",
    "# print(hotel_xy,'\\n',node_xy)\n",
    "\n",
    "# print(hotel_xy_expanded.shape)\n",
    "# hotel_xy_expanded\n",
    "\n",
    "# print(node_xy_expanded.shape)\n",
    "# node_xy_expanded"
   ]
  },
  {
   "cell_type": "code",
   "execution_count": null,
   "id": "aec61289",
   "metadata": {},
   "outputs": [],
   "source": []
  },
  {
   "cell_type": "code",
   "execution_count": 9,
   "id": "067eed3a",
   "metadata": {},
   "outputs": [
    {
     "name": "stdout",
     "output_type": "stream",
     "text": [
      "befor tensor([[3, 4, 6, 7, 7]])\n",
      "torch.Size([1, 5])\n",
      "after tensor([[3, 4, 6, 7, 7],\n",
      "        [3, 4, 6, 7, 7],\n",
      "        [3, 4, 6, 7, 7],\n",
      "        [3, 4, 6, 7, 7],\n",
      "        [3, 4, 6, 7, 7],\n",
      "        [3, 4, 6, 7, 7],\n",
      "        [3, 4, 6, 7, 7],\n",
      "        [3, 4, 6, 7, 7]])\n",
      "torch.Size([8, 5])\n"
     ]
    }
   ],
   "source": [
    "import torch\n",
    "batch_size = 1\n",
    "problem_size = 5\n",
    "node_prize = torch.randint(1, 10, size=(batch_size, problem_size))\n",
    "print(f'befor {node_prize}\\n{node_prize.shape}')\n",
    "node_prize = node_prize.repeat(8, 1)\n",
    "print(f'after {node_prize}\\n{node_prize.shape}')"
   ]
  },
  {
   "cell_type": "code",
   "execution_count": 10,
   "id": "3b59b850",
   "metadata": {},
   "outputs": [
    {
     "name": "stdout",
     "output_type": "stream",
     "text": [
      "after tensor([[[0.2985, 0.4687],\n",
      "         [0.9799, 0.1588],\n",
      "         [0.5575, 0.0749],\n",
      "         [0.4365, 0.3010],\n",
      "         [0.2413, 0.9136]]])\n",
      "torch.Size([1, 5, 2])\n",
      "after tensor([[[0.2985, 0.4687],\n",
      "         [0.9799, 0.1588],\n",
      "         [0.5575, 0.0749],\n",
      "         [0.4365, 0.3010],\n",
      "         [0.2413, 0.9136]],\n",
      "\n",
      "        [[0.7015, 0.4687],\n",
      "         [0.0201, 0.1588],\n",
      "         [0.4425, 0.0749],\n",
      "         [0.5635, 0.3010],\n",
      "         [0.7587, 0.9136]],\n",
      "\n",
      "        [[0.2985, 0.5313],\n",
      "         [0.9799, 0.8412],\n",
      "         [0.5575, 0.9251],\n",
      "         [0.4365, 0.6990],\n",
      "         [0.2413, 0.0864]],\n",
      "\n",
      "        [[0.7015, 0.5313],\n",
      "         [0.0201, 0.8412],\n",
      "         [0.4425, 0.9251],\n",
      "         [0.5635, 0.6990],\n",
      "         [0.7587, 0.0864]],\n",
      "\n",
      "        [[0.4687, 0.2985],\n",
      "         [0.1588, 0.9799],\n",
      "         [0.0749, 0.5575],\n",
      "         [0.3010, 0.4365],\n",
      "         [0.9136, 0.2413]],\n",
      "\n",
      "        [[0.5313, 0.2985],\n",
      "         [0.8412, 0.9799],\n",
      "         [0.9251, 0.5575],\n",
      "         [0.6990, 0.4365],\n",
      "         [0.0864, 0.2413]],\n",
      "\n",
      "        [[0.4687, 0.7015],\n",
      "         [0.1588, 0.0201],\n",
      "         [0.0749, 0.4425],\n",
      "         [0.3010, 0.5635],\n",
      "         [0.9136, 0.7587]],\n",
      "\n",
      "        [[0.5313, 0.7015],\n",
      "         [0.8412, 0.0201],\n",
      "         [0.9251, 0.4425],\n",
      "         [0.6990, 0.5635],\n",
      "         [0.0864, 0.7587]]])\n",
      "torch.Size([8, 5, 2])\n"
     ]
    }
   ],
   "source": [
    "node_xy = torch.rand(size=(batch_size, problem_size, 2))\n",
    "print(f'after {node_xy}\\n{node_xy.shape}')\n",
    "\n",
    "def augment_xy_data_by_8_fold(xy_data):\n",
    "    # xy_data.shape: (batch, N, 2)\n",
    "\n",
    "    x = xy_data[:, :, [0]]\n",
    "    y = xy_data[:, :, [1]]\n",
    "    # x,y shape: (batch, N, 1)\n",
    "\n",
    "    dat1 = torch.cat((x, y), dim=2)\n",
    "    dat2 = torch.cat((1 - x, y), dim=2)\n",
    "    dat3 = torch.cat((x, 1 - y), dim=2)\n",
    "    dat4 = torch.cat((1 - x, 1 - y), dim=2)\n",
    "    dat5 = torch.cat((y, x), dim=2)\n",
    "    dat6 = torch.cat((1 - y, x), dim=2)\n",
    "    dat7 = torch.cat((y, 1 - x), dim=2)\n",
    "    dat8 = torch.cat((1 - y, 1 - x), dim=2)\n",
    "\n",
    "    aug_xy_data = torch.cat((dat1, dat2, dat3, dat4, dat5, dat6, dat7, dat8), dim=0)\n",
    "    # shape: (8*batch, N, 2)\n",
    "\n",
    "    return aug_xy_data\n",
    "\n",
    "node_xy = augment_xy_data_by_8_fold(node_xy)\n",
    "print(f'after {node_xy}\\n{node_xy.shape}')"
   ]
  },
  {
   "cell_type": "code",
   "execution_count": 1,
   "id": "aa7aaef9-acca-417c-b850-eb09f5d72996",
   "metadata": {
    "tags": []
   },
   "outputs": [],
   "source": [
    "import OPProblemDef as OP "
   ]
  },
  {
   "cell_type": "code",
   "execution_count": 2,
   "id": "c43bc679-3994-4235-b58a-432b305dd8c0",
   "metadata": {
    "tags": []
   },
   "outputs": [],
   "source": [
    "depot_xy , node_xy , prize = OP.get_random_problems(2 , 5 )"
   ]
  },
  {
   "cell_type": "code",
   "execution_count": 3,
   "id": "85cba300-eb9d-473e-a208-c8e435d26b53",
   "metadata": {
    "tags": []
   },
   "outputs": [
    {
     "data": {
      "text/plain": [
       "tensor([[8, 7, 1, 8, 5],\n",
       "        [8, 1, 9, 5, 4]])"
      ]
     },
     "execution_count": 3,
     "metadata": {},
     "output_type": "execute_result"
    }
   ],
   "source": [
    "prize"
   ]
  },
  {
   "cell_type": "code",
   "execution_count": 4,
   "id": "ba4ee1c0-ef1f-4857-9786-725948d502e6",
   "metadata": {
    "tags": []
   },
   "outputs": [
    {
     "data": {
      "text/plain": [
       "tensor([[[0.7294, 0.3035],\n",
       "         [0.4914, 0.2482],\n",
       "         [0.0296, 0.1885],\n",
       "         [0.6895, 0.5764],\n",
       "         [0.7609, 0.1730]],\n",
       "\n",
       "        [[0.5945, 0.4703],\n",
       "         [0.9672, 0.4240],\n",
       "         [0.8070, 0.6610],\n",
       "         [0.7422, 0.8461],\n",
       "         [0.0681, 0.8766]]])"
      ]
     },
     "execution_count": 4,
     "metadata": {},
     "output_type": "execute_result"
    }
   ],
   "source": [
    "node_xy"
   ]
  },
  {
   "cell_type": "code",
   "execution_count": 5,
   "id": "ace9974d-9f58-406c-a8c0-20daa2ef6af8",
   "metadata": {
    "tags": []
   },
   "outputs": [
    {
     "data": {
      "text/plain": [
       "tensor([[[0.3658, 0.6530]],\n",
       "\n",
       "        [[0.6337, 0.4192]]])"
      ]
     },
     "execution_count": 5,
     "metadata": {},
     "output_type": "execute_result"
    }
   ],
   "source": [
    "depot_xy"
   ]
  },
  {
   "cell_type": "markdown",
   "id": "3a27cdd8-e038-4192-a616-5a70518aa386",
   "metadata": {},
   "source": [
    "# test env"
   ]
  },
  {
   "cell_type": "code",
   "execution_count": 6,
   "id": "d3baaac1-948e-4826-93e2-5a0a3ab7385b",
   "metadata": {},
   "outputs": [],
   "source": [
    "from POMO import OPEnv"
   ]
  },
  {
   "cell_type": "code",
   "execution_count": 7,
   "id": "6b6783e1-baa4-4046-93e2-dec6cd6f4c9e",
   "metadata": {
    "tags": []
   },
   "outputs": [],
   "source": [
    "env_params = {\n",
    "    'problem_size': 3,\n",
    "    'pomo_size': 3 }\n",
    "#batch_size = 2"
   ]
  },
  {
   "cell_type": "code",
   "execution_count": 8,
   "id": "f0b8312c-2e40-4893-88c9-0163d0283064",
   "metadata": {
    "tags": []
   },
   "outputs": [],
   "source": [
    "env = OPEnv.OPEnv(**env_params)"
   ]
  },
  {
   "cell_type": "markdown",
   "id": "915c6976-bb90-45ba-b7a3-3b862b0a9f12",
   "metadata": {},
   "source": [
    "self.reset_state.depot_xy = depot_xy\n",
    "self.reset_state.node_xy = node_xy\n",
    "self.reset_state.node_prize = node_prize\n",
    "\n",
    "self.step_state.BATCH_IDX = self.BATCH_IDX\n",
    "self.step_state.POMO_IDX = self.POMO_IDX"
   ]
  },
  {
   "cell_type": "markdown",
   "id": "65770dd4-eeb6-4e55-88f0-e968bd006329",
   "metadata": {},
   "source": [
    "## load problems\n"
   ]
  },
  {
   "cell_type": "code",
   "execution_count": 9,
   "id": "950684dd-fed2-4fa5-94ae-d872848e3893",
   "metadata": {
    "tags": []
   },
   "outputs": [],
   "source": [
    "#batch_size = 2\n",
    "env.load_problems(2)"
   ]
  },
  {
   "cell_type": "code",
   "execution_count": 10,
   "id": "0a7a9e37-1b9f-44a5-abdd-f345413315fb",
   "metadata": {
    "tags": []
   },
   "outputs": [
    {
     "data": {
      "text/plain": [
       "tensor([[[0.6076, 0.4600]],\n",
       "\n",
       "        [[0.1481, 0.9384]]])"
      ]
     },
     "execution_count": 10,
     "metadata": {},
     "output_type": "execute_result"
    }
   ],
   "source": [
    "env.reset_state.depot_xy"
   ]
  },
  {
   "cell_type": "code",
   "execution_count": 11,
   "id": "ba88f538-5ae9-400d-9919-fec1095075c4",
   "metadata": {
    "tags": []
   },
   "outputs": [
    {
     "data": {
      "text/plain": [
       "tensor([[[0.9894, 0.9015],\n",
       "         [0.2022, 0.3955],\n",
       "         [0.7699, 0.9438]],\n",
       "\n",
       "        [[0.4338, 0.0211],\n",
       "         [0.2468, 0.4508],\n",
       "         [0.8966, 0.1446]]])"
      ]
     },
     "execution_count": 11,
     "metadata": {},
     "output_type": "execute_result"
    }
   ],
   "source": [
    "env.reset_state.node_xy"
   ]
  },
  {
   "cell_type": "code",
   "execution_count": 12,
   "id": "49685fc5-7a3f-4dbb-8230-5b88d50224db",
   "metadata": {
    "tags": []
   },
   "outputs": [
    {
     "data": {
      "text/plain": [
       "tensor([[5, 2, 1],\n",
       "        [4, 1, 1]])"
      ]
     },
     "execution_count": 12,
     "metadata": {},
     "output_type": "execute_result"
    }
   ],
   "source": [
    "env.reset_state.node_prize"
   ]
  },
  {
   "cell_type": "markdown",
   "id": "2d7aa644-1c76-4f71-a0ac-2039013ca8eb",
   "metadata": {},
   "source": [
    "## reset "
   ]
  },
  {
   "cell_type": "code",
   "execution_count": 13,
   "id": "8124e52a-3302-4c5c-a7a5-53e7d9b1d718",
   "metadata": {
    "tags": []
   },
   "outputs": [
    {
     "data": {
      "text/plain": [
       "(Reset_state(depot_xy=tensor([[[0.6076, 0.4600]],\n",
       " \n",
       "         [[0.1481, 0.9384]]]), node_xy=tensor([[[0.9894, 0.9015],\n",
       "          [0.2022, 0.3955],\n",
       "          [0.7699, 0.9438]],\n",
       " \n",
       "         [[0.4338, 0.0211],\n",
       "          [0.2468, 0.4508],\n",
       "          [0.8966, 0.1446]]]), node_prize=tensor([[5, 2, 1],\n",
       "         [4, 1, 1]])),\n",
       " None,\n",
       " False)"
      ]
     },
     "execution_count": 13,
     "metadata": {},
     "output_type": "execute_result"
    }
   ],
   "source": [
    "env.reset()"
   ]
  },
  {
   "cell_type": "markdown",
   "id": "17df86c2-9afc-4e2d-a918-f8de9ee7cda2",
   "metadata": {},
   "source": [
    "## pre step "
   ]
  },
  {
   "cell_type": "code",
   "execution_count": 14,
   "id": "52d4ba57-d2f5-4086-88ca-2fd53a2ee3f2",
   "metadata": {
    "tags": []
   },
   "outputs": [
    {
     "data": {
      "text/plain": [
       "(Step_state(BATCH_IDX=tensor([[0, 0, 0],\n",
       "         [1, 1, 1]]), POMO_IDX=tensor([[0, 1, 2],\n",
       "         [0, 1, 2]]), current_node=None, selected_count=0, ninf_mask=tensor([[[0., 0., 0., 0.],\n",
       "          [0., 0., 0., 0.],\n",
       "          [0., 0., 0., 0.]],\n",
       " \n",
       "         [[0., 0., 0., 0.],\n",
       "          [0., 0., 0., 0.],\n",
       "          [0., 0., 0., 0.]]]), finished=tensor([[False, False, False],\n",
       "         [False, False, False]])),\n",
       " None,\n",
       " False)"
      ]
     },
     "execution_count": 14,
     "metadata": {},
     "output_type": "execute_result"
    }
   ],
   "source": [
    "env.pre_step()"
   ]
  },
  {
   "cell_type": "markdown",
   "id": "53533b8d-6039-455d-8a5d-7b5025d7072e",
   "metadata": {},
   "source": [
    "## step "
   ]
  },
  {
   "cell_type": "code",
   "execution_count": 15,
   "id": "7fe508d8-09d7-4db3-92e3-3cdb92df6d27",
   "metadata": {
    "tags": []
   },
   "outputs": [
    {
     "data": {
      "text/plain": [
       "torch.Size([2, 3])"
      ]
     },
     "execution_count": 15,
     "metadata": {},
     "output_type": "execute_result"
    }
   ],
   "source": [
    "import torch\n",
    "\n",
    "\n",
    "batch_size = 2\n",
    "pomo_size = 3  \n",
    "\n",
    "selected_tensor = torch.randint(1, pomo_size + 1, (batch_size, pomo_size))\n",
    "selected_tensor.shape"
   ]
  },
  {
   "cell_type": "code",
   "execution_count": 16,
   "id": "e8ecf188-b105-4ce0-ba26-f2bf61ba7a1c",
   "metadata": {
    "tags": []
   },
   "outputs": [
    {
     "data": {
      "text/plain": [
       "tensor([[1, 2, 2],\n",
       "        [1, 2, 2]])"
      ]
     },
     "execution_count": 16,
     "metadata": {},
     "output_type": "execute_result"
    }
   ],
   "source": [
    "selected_tensor"
   ]
  },
  {
   "cell_type": "code",
   "execution_count": 17,
   "id": "8b0b1589-8161-4e72-945c-15f5bba46abb",
   "metadata": {
    "tags": []
   },
   "outputs": [
    {
     "name": "stdout",
     "output_type": "stream",
     "text": [
      "selected_len : tensor([[0.5837, 0.4105, 0.4105],\n",
      "        [0.9607, 0.4974, 0.4974]])\n",
      "remaining_len before step : tensor([[2., 2., 2.],\n",
      "        [2., 2., 2.]]) \n",
      "remaining_len after step: tensor([[1.4163, 1.5895, 1.5895],\n",
      "        [1.0393, 1.5026, 1.5026]]) \n"
     ]
    },
    {
     "data": {
      "text/plain": [
       "(Step_state(BATCH_IDX=tensor([[0, 0, 0],\n",
       "         [1, 1, 1]]), POMO_IDX=tensor([[0, 1, 2],\n",
       "         [0, 1, 2]]), current_node=tensor([[1, 2, 2],\n",
       "         [1, 2, 2]]), selected_count=1, ninf_mask=tensor([[[0., -inf, 0., 0.],\n",
       "          [0., 0., -inf, 0.],\n",
       "          [0., 0., -inf, 0.]],\n",
       " \n",
       "         [[0., -inf, 0., -inf],\n",
       "          [0., 0., -inf, -inf],\n",
       "          [0., 0., -inf, -inf]]]), finished=tensor([[False, False, False],\n",
       "         [False, False, False]])),\n",
       " None,\n",
       " tensor(False))"
      ]
     },
     "execution_count": 17,
     "metadata": {},
     "output_type": "execute_result"
    }
   ],
   "source": [
    "env.step(selected_tensor)"
   ]
  },
  {
   "cell_type": "code",
   "execution_count": 18,
   "id": "77f7389e-4338-4720-9326-bb981d44f143",
   "metadata": {
    "tags": []
   },
   "outputs": [
    {
     "data": {
      "text/plain": [
       "tensor([[0, 0, 0],\n",
       "        [0, 0, 0]])"
      ]
     },
     "execution_count": 18,
     "metadata": {},
     "output_type": "execute_result"
    }
   ],
   "source": [
    "env.last_visited_node\n"
   ]
  },
  {
   "cell_type": "code",
   "execution_count": 19,
   "id": "835ee727-07a1-4b60-b5fd-7f9a3aa2946c",
   "metadata": {
    "tags": []
   },
   "outputs": [
    {
     "data": {
      "text/plain": [
       "tensor([[1, 2, 2],\n",
       "        [1, 2, 2]])"
      ]
     },
     "execution_count": 19,
     "metadata": {},
     "output_type": "execute_result"
    }
   ],
   "source": [
    "env.current_node"
   ]
  },
  {
   "cell_type": "code",
   "execution_count": 20,
   "id": "2fc0ffba-1101-409e-81a9-a82367b43627",
   "metadata": {
    "tags": []
   },
   "outputs": [
    {
     "data": {
      "text/plain": [
       "tensor([[[0., 5., 2., 1.],\n",
       "         [0., 5., 2., 1.],\n",
       "         [0., 5., 2., 1.]],\n",
       "\n",
       "        [[0., 4., 1., 1.],\n",
       "         [0., 4., 1., 1.],\n",
       "         [0., 4., 1., 1.]]])"
      ]
     },
     "execution_count": 20,
     "metadata": {},
     "output_type": "execute_result"
    }
   ],
   "source": [
    "env.prize_list"
   ]
  },
  {
   "cell_type": "code",
   "execution_count": 21,
   "id": "0293d203-d7f0-4f2e-9dd9-b60b0f752ef5",
   "metadata": {
    "tags": []
   },
   "outputs": [
    {
     "data": {
      "text/plain": [
       "tensor([[[1],\n",
       "         [2],\n",
       "         [2]],\n",
       "\n",
       "        [[1],\n",
       "         [2],\n",
       "         [2]]])"
      ]
     },
     "execution_count": 21,
     "metadata": {},
     "output_type": "execute_result"
    }
   ],
   "source": [
    "env.gathering_index"
   ]
  },
  {
   "cell_type": "code",
   "execution_count": 22,
   "id": "1dbcc438-bf7c-458b-a258-faad969e030d",
   "metadata": {
    "tags": []
   },
   "outputs": [
    {
     "data": {
      "text/plain": [
       "tensor([[5., 2., 2.],\n",
       "        [4., 1., 1.]])"
      ]
     },
     "execution_count": 22,
     "metadata": {},
     "output_type": "execute_result"
    }
   ],
   "source": [
    "env.selected_prize"
   ]
  },
  {
   "cell_type": "code",
   "execution_count": 23,
   "id": "081b7b6e-7052-4479-893a-3dab3c7cf2be",
   "metadata": {},
   "outputs": [
    {
     "data": {
      "text/plain": [
       "tensor([[[0., -inf, 0., 0.],\n",
       "         [0., 0., -inf, 0.],\n",
       "         [0., 0., -inf, 0.]],\n",
       "\n",
       "        [[0., -inf, 0., -inf],\n",
       "         [0., 0., -inf, -inf],\n",
       "         [0., 0., -inf, -inf]]])"
      ]
     },
     "execution_count": 23,
     "metadata": {},
     "output_type": "execute_result"
    }
   ],
   "source": [
    "env.ninf_mask"
   ]
  },
  {
   "cell_type": "markdown",
   "id": "a024e3b6-4fed-4266-b93a-9164c530af73",
   "metadata": {},
   "source": [
    "### check for len too large "
   ]
  },
  {
   "cell_type": "code",
   "execution_count": 24,
   "id": "bf8c8868-5b18-4ffe-aae9-bd98ee73cd17",
   "metadata": {
    "tags": []
   },
   "outputs": [
    {
     "data": {
      "text/plain": [
       "(Reset_state(depot_xy=tensor([[[0.6076, 0.4600]],\n",
       " \n",
       "         [[0.1481, 0.9384]]]), node_xy=tensor([[[0.9894, 0.9015],\n",
       "          [0.2022, 0.3955],\n",
       "          [0.7699, 0.9438]],\n",
       " \n",
       "         [[0.4338, 0.0211],\n",
       "          [0.2468, 0.4508],\n",
       "          [0.8966, 0.1446]]]), node_prize=tensor([[5, 2, 1],\n",
       "         [4, 1, 1]])),\n",
       " None,\n",
       " False)"
      ]
     },
     "execution_count": 24,
     "metadata": {},
     "output_type": "execute_result"
    }
   ],
   "source": [
    "env.reset()"
   ]
  },
  {
   "cell_type": "code",
   "execution_count": 25,
   "id": "fb54fb96-3a2d-4193-905e-44d22ef4c50e",
   "metadata": {
    "tags": []
   },
   "outputs": [
    {
     "data": {
      "text/plain": [
       "(Step_state(BATCH_IDX=tensor([[0, 0, 0],\n",
       "         [1, 1, 1]]), POMO_IDX=tensor([[0, 1, 2],\n",
       "         [0, 1, 2]]), current_node=None, selected_count=0, ninf_mask=tensor([[[0., 0., 0., 0.],\n",
       "          [0., 0., 0., 0.],\n",
       "          [0., 0., 0., 0.]],\n",
       " \n",
       "         [[0., 0., 0., 0.],\n",
       "          [0., 0., 0., 0.],\n",
       "          [0., 0., 0., 0.]]]), finished=tensor([[False, False, False],\n",
       "         [False, False, False]])),\n",
       " None,\n",
       " False)"
      ]
     },
     "execution_count": 25,
     "metadata": {},
     "output_type": "execute_result"
    }
   ],
   "source": [
    "env.pre_step()"
   ]
  },
  {
   "cell_type": "code",
   "execution_count": 26,
   "id": "8e369742-36a9-4eaf-babe-15ed703559bc",
   "metadata": {
    "tags": []
   },
   "outputs": [
    {
     "data": {
      "text/plain": [
       "tensor([[3, 1, 3],\n",
       "        [1, 3, 1]])"
      ]
     },
     "execution_count": 26,
     "metadata": {},
     "output_type": "execute_result"
    }
   ],
   "source": [
    "selected_tensor = torch.randint(1, pomo_size + 1, (batch_size, pomo_size))\n",
    "selected_tensor"
   ]
  },
  {
   "cell_type": "code",
   "execution_count": 27,
   "id": "82119636-51f9-4ea1-9c27-81b9d5a838f4",
   "metadata": {
    "tags": []
   },
   "outputs": [
    {
     "name": "stdout",
     "output_type": "stream",
     "text": [
      "selected_len : tensor([[0.5104, 0.5837, 0.5104],\n",
      "        [0.9607, 1.0909, 0.9607]])\n",
      "remaining_len before step : tensor([[2., 2., 2.],\n",
      "        [2., 2., 2.]]) \n",
      "remaining_len after step: tensor([[1.4896, 1.4163, 1.4896],\n",
      "        [1.0393, 0.9091, 1.0393]]) \n"
     ]
    },
    {
     "data": {
      "text/plain": [
       "(Step_state(BATCH_IDX=tensor([[0, 0, 0],\n",
       "         [1, 1, 1]]), POMO_IDX=tensor([[0, 1, 2],\n",
       "         [0, 1, 2]]), current_node=tensor([[3, 1, 3],\n",
       "         [1, 3, 1]]), selected_count=1, ninf_mask=tensor([[[0., 0., 0., -inf],\n",
       "          [0., -inf, 0., 0.],\n",
       "          [0., 0., 0., -inf]],\n",
       " \n",
       "         [[0., -inf, 0., -inf],\n",
       "          [0., -inf, -inf, -inf],\n",
       "          [0., -inf, 0., -inf]]]), finished=tensor([[False, False, False],\n",
       "         [False, False, False]])),\n",
       " None,\n",
       " tensor(False))"
      ]
     },
     "execution_count": 27,
     "metadata": {},
     "output_type": "execute_result"
    }
   ],
   "source": [
    "env.step(selected_tensor)"
   ]
  },
  {
   "cell_type": "code",
   "execution_count": 28,
   "id": "b5f04917-1b69-4af4-9552-94c66ceba6ef",
   "metadata": {
    "tags": []
   },
   "outputs": [
    {
     "data": {
      "text/plain": [
       "tensor([[[0., 0., 0., -inf],\n",
       "         [0., -inf, 0., 0.],\n",
       "         [0., 0., 0., -inf]],\n",
       "\n",
       "        [[0., -inf, 0., -inf],\n",
       "         [0., -inf, -inf, -inf],\n",
       "         [0., -inf, 0., -inf]]])"
      ]
     },
     "execution_count": 28,
     "metadata": {},
     "output_type": "execute_result"
    }
   ],
   "source": [
    "env.ninf_mask"
   ]
  },
  {
   "cell_type": "code",
   "execution_count": 29,
   "id": "b0fc01e9-00ff-47bf-8289-b53ebe09dd56",
   "metadata": {
    "tags": []
   },
   "outputs": [
    {
     "data": {
      "text/plain": [
       "tensor([[[0.9894, 0.9015],\n",
       "         [0.2022, 0.3955],\n",
       "         [0.7699, 0.9438]],\n",
       "\n",
       "        [[0.4338, 0.0211],\n",
       "         [0.2468, 0.4508],\n",
       "         [0.8966, 0.1446]]])"
      ]
     },
     "execution_count": 29,
     "metadata": {},
     "output_type": "execute_result"
    }
   ],
   "source": [
    "env.node_xy"
   ]
  },
  {
   "cell_type": "code",
   "execution_count": 30,
   "id": "13ea1078-8ba3-4a09-adb8-b28ee1ad8b32",
   "metadata": {
    "tags": []
   },
   "outputs": [
    {
     "data": {
      "text/plain": [
       "tensor([[0.5837, 0.4105, 0.5104],\n",
       "        [0.9607, 0.4974, 1.0909]])"
      ]
     },
     "execution_count": 30,
     "metadata": {},
     "output_type": "execute_result"
    }
   ],
   "source": [
    "env.len_to_depot"
   ]
  },
  {
   "cell_type": "code",
   "execution_count": 31,
   "id": "dc353889",
   "metadata": {},
   "outputs": [
    {
     "data": {
      "text/plain": [
       "tensor([[[0.5837, 0.4105, 0.5104],\n",
       "         [0.5837, 0.4105, 0.5104],\n",
       "         [0.5837, 0.4105, 0.5104]],\n",
       "\n",
       "        [[0.9607, 0.4974, 1.0909],\n",
       "         [0.9607, 0.4974, 1.0909],\n",
       "         [0.9607, 0.4974, 1.0909]]])"
      ]
     },
     "execution_count": 31,
     "metadata": {},
     "output_type": "execute_result"
    }
   ],
   "source": [
    "env.len_to_depot_expanded"
   ]
  },
  {
   "cell_type": "code",
   "execution_count": 32,
   "id": "a8cfe1b7",
   "metadata": {},
   "outputs": [
    {
     "data": {
      "text/plain": [
       "tensor([[[0.2235, 0.7892, 0.0000],\n",
       "         [0.0000, 0.9358, 0.2235],\n",
       "         [0.2235, 0.7892, 0.0000]],\n",
       "\n",
       "        [[0.0000, 0.4687, 0.4789],\n",
       "         [0.4789, 0.7183, 0.0000],\n",
       "         [0.0000, 0.4687, 0.4789]]])"
      ]
     },
     "execution_count": 32,
     "metadata": {},
     "output_type": "execute_result"
    }
   ],
   "source": [
    "env.future_len"
   ]
  },
  {
   "cell_type": "code",
   "execution_count": 33,
   "id": "77cb755c-1a4d-42e0-bf94-993cbe672646",
   "metadata": {
    "tags": []
   },
   "outputs": [
    {
     "data": {
      "text/plain": [
       "tensor([[1.4896, 1.4163, 1.4896],\n",
       "        [1.0393, 0.9091, 1.0393]])"
      ]
     },
     "execution_count": 33,
     "metadata": {},
     "output_type": "execute_result"
    }
   ],
   "source": [
    "env.remaining_len"
   ]
  },
  {
   "cell_type": "code",
   "execution_count": 34,
   "id": "8f122b5c",
   "metadata": {},
   "outputs": [
    {
     "data": {
      "text/plain": [
       "tensor([[[1.4896, 1.4896, 1.4896],\n",
       "         [1.4163, 1.4163, 1.4163],\n",
       "         [1.4896, 1.4896, 1.4896]],\n",
       "\n",
       "        [[1.0393, 1.0393, 1.0393],\n",
       "         [0.9091, 0.9091, 0.9091],\n",
       "         [1.0393, 1.0393, 1.0393]]])"
      ]
     },
     "execution_count": 34,
     "metadata": {},
     "output_type": "execute_result"
    }
   ],
   "source": [
    "env.remaining_len_expanded"
   ]
  },
  {
   "cell_type": "code",
   "execution_count": 35,
   "id": "899c449c",
   "metadata": {},
   "outputs": [
    {
     "data": {
      "text/plain": [
       "tensor([[[0.8073, 1.1997, 0.5104],\n",
       "         [0.5837, 1.3463, 0.7339],\n",
       "         [0.8073, 1.1997, 0.5104]],\n",
       "\n",
       "        [[0.9607, 0.9661, 1.5699],\n",
       "         [1.4397, 1.2157, 1.0909],\n",
       "         [0.9607, 0.9661, 1.5699]]])"
      ]
     },
     "execution_count": 35,
     "metadata": {},
     "output_type": "execute_result"
    }
   ],
   "source": [
    "env.possible_dists"
   ]
  },
  {
   "cell_type": "code",
   "execution_count": 36,
   "id": "f5759a5a-45db-49fc-8244-4fdaa7ac1ebd",
   "metadata": {
    "tags": []
   },
   "outputs": [
    {
     "data": {
      "text/plain": [
       "tensor([[[False, False, False],\n",
       "         [False, False, False],\n",
       "         [False, False, False]],\n",
       "\n",
       "        [[False, False,  True],\n",
       "         [ True,  True,  True],\n",
       "         [False, False,  True]]])"
      ]
     },
     "execution_count": 36,
     "metadata": {},
     "output_type": "execute_result"
    }
   ],
   "source": [
    "env.len_too_large"
   ]
  },
  {
   "cell_type": "code",
   "execution_count": 37,
   "id": "03fed300",
   "metadata": {},
   "outputs": [
    {
     "data": {
      "text/plain": [
       "tensor([[[False, False, False, False],\n",
       "         [False, False, False, False],\n",
       "         [False, False, False, False]],\n",
       "\n",
       "        [[False, False, False,  True],\n",
       "         [False,  True,  True,  True],\n",
       "         [False, False, False,  True]]])"
      ]
     },
     "execution_count": 37,
     "metadata": {},
     "output_type": "execute_result"
    }
   ],
   "source": [
    "env.len_too_large_expanded"
   ]
  },
  {
   "cell_type": "code",
   "execution_count": 38,
   "id": "8169ac2a",
   "metadata": {},
   "outputs": [
    {
     "data": {
      "text/plain": [
       "tensor([[[0., 0., 0., -inf],\n",
       "         [0., -inf, 0., 0.],\n",
       "         [0., 0., 0., -inf]],\n",
       "\n",
       "        [[0., -inf, 0., -inf],\n",
       "         [0., -inf, -inf, -inf],\n",
       "         [0., -inf, 0., -inf]]])"
      ]
     },
     "execution_count": 38,
     "metadata": {},
     "output_type": "execute_result"
    }
   ],
   "source": [
    "env.ninf_mask"
   ]
  },
  {
   "cell_type": "markdown",
   "id": "00ef92e5-b475-4ea8-b676-6dd874ac08a4",
   "metadata": {},
   "source": [
    "### caclulate two distance node"
   ]
  },
  {
   "cell_type": "markdown",
   "id": "58d9f179",
   "metadata": {},
   "source": [
    "(works fine but needs change in unsqueez method size for node_xy_current & node_xy_last_visited)"
   ]
  },
  {
   "cell_type": "code",
   "execution_count": 39,
   "id": "e201cdae-89f4-4dba-91a1-1270f89da0a0",
   "metadata": {
    "tags": []
   },
   "outputs": [],
   "source": [
    "env.calculate_two_distance();"
   ]
  },
  {
   "cell_type": "code",
   "execution_count": 40,
   "id": "c438c870-5c05-4224-8731-459da5f1b404",
   "metadata": {
    "tags": []
   },
   "outputs": [
    {
     "data": {
      "text/plain": [
       "tensor([[[0.6076, 0.4600],\n",
       "         [0.9894, 0.9015],\n",
       "         [0.2022, 0.3955],\n",
       "         [0.7699, 0.9438]],\n",
       "\n",
       "        [[0.1481, 0.9384],\n",
       "         [0.4338, 0.0211],\n",
       "         [0.2468, 0.4508],\n",
       "         [0.8966, 0.1446]]])"
      ]
     },
     "execution_count": 40,
     "metadata": {},
     "output_type": "execute_result"
    }
   ],
   "source": [
    "env.depot_node_xy"
   ]
  },
  {
   "cell_type": "code",
   "execution_count": 41,
   "id": "0e09f291-7a0d-4472-b2db-617567fffba3",
   "metadata": {
    "tags": []
   },
   "outputs": [
    {
     "data": {
      "text/plain": [
       "tensor([[0, 0, 0],\n",
       "        [0, 0, 0]])"
      ]
     },
     "execution_count": 41,
     "metadata": {},
     "output_type": "execute_result"
    }
   ],
   "source": [
    "env.last_visited_node"
   ]
  },
  {
   "cell_type": "code",
   "execution_count": 43,
   "id": "ab43a099-e159-48f1-8f31-8108e3138684",
   "metadata": {
    "tags": []
   },
   "outputs": [
    {
     "data": {
      "text/plain": [
       "tensor([[3, 1, 3],\n",
       "        [1, 3, 1]])"
      ]
     },
     "execution_count": 43,
     "metadata": {},
     "output_type": "execute_result"
    }
   ],
   "source": [
    "env.current_node"
   ]
  },
  {
   "cell_type": "code",
   "execution_count": 44,
   "id": "13c8a671-51b4-42cb-b7a3-7429381761b9",
   "metadata": {
    "tags": []
   },
   "outputs": [
    {
     "data": {
      "text/plain": [
       "tensor([[[0.7699, 0.9438],\n",
       "         [0.9894, 0.9015],\n",
       "         [0.7699, 0.9438]],\n",
       "\n",
       "        [[0.4338, 0.0211],\n",
       "         [0.8966, 0.1446],\n",
       "         [0.4338, 0.0211]]])"
      ]
     },
     "execution_count": 44,
     "metadata": {},
     "output_type": "execute_result"
    }
   ],
   "source": [
    "env.node_xy_current"
   ]
  },
  {
   "cell_type": "code",
   "execution_count": 45,
   "id": "4c36b374",
   "metadata": {},
   "outputs": [
    {
     "data": {
      "text/plain": [
       "tensor([[0.5104, 0.5837, 0.5104],\n",
       "        [0.9607, 1.0909, 0.9607]])"
      ]
     },
     "execution_count": 45,
     "metadata": {},
     "output_type": "execute_result"
    }
   ],
   "source": [
    "selected_len = env.calculate_two_distance()\n",
    "selected_len"
   ]
  },
  {
   "cell_type": "code",
   "execution_count": 46,
   "id": "3c027ff9-009d-465b-9238-8c46feda9e35",
   "metadata": {
    "tags": []
   },
   "outputs": [
    {
     "data": {
      "text/plain": [
       "tensor([[3, 1, 3],\n",
       "        [1, 3, 1]])"
      ]
     },
     "execution_count": 46,
     "metadata": {},
     "output_type": "execute_result"
    }
   ],
   "source": [
    "selected_tensor"
   ]
  },
  {
   "cell_type": "markdown",
   "id": "84c07c67-e332-4f0c-bd42-0e708bb2cde4",
   "metadata": {},
   "source": [
    "### len to depot "
   ]
  },
  {
   "cell_type": "markdown",
   "id": "fc31f0f4",
   "metadata": {},
   "source": [
    "(done and tested)"
   ]
  },
  {
   "cell_type": "code",
   "execution_count": 47,
   "id": "1fc8c2e5-4e12-4ce8-8861-b3e664c48ef1",
   "metadata": {
    "tags": []
   },
   "outputs": [
    {
     "data": {
      "text/plain": [
       "tensor([[[0.9894, 0.9015],\n",
       "         [0.2022, 0.3955],\n",
       "         [0.7699, 0.9438]],\n",
       "\n",
       "        [[0.4338, 0.0211],\n",
       "         [0.2468, 0.4508],\n",
       "         [0.8966, 0.1446]]])"
      ]
     },
     "execution_count": 47,
     "metadata": {},
     "output_type": "execute_result"
    }
   ],
   "source": [
    "env.calculate_len_to_depot();\n",
    "env.node_xy"
   ]
  },
  {
   "cell_type": "code",
   "execution_count": 48,
   "id": "2e313eaf-0a2c-423a-b7ba-58a144782cb1",
   "metadata": {
    "tags": []
   },
   "outputs": [
    {
     "data": {
      "text/plain": [
       "tensor([[[0.6076, 0.4600],\n",
       "         [0.6076, 0.4600],\n",
       "         [0.6076, 0.4600]],\n",
       "\n",
       "        [[0.1481, 0.9384],\n",
       "         [0.1481, 0.9384],\n",
       "         [0.1481, 0.9384]]])"
      ]
     },
     "execution_count": 48,
     "metadata": {},
     "output_type": "execute_result"
    }
   ],
   "source": [
    "env.depot_xy_expanded"
   ]
  },
  {
   "cell_type": "code",
   "execution_count": 49,
   "id": "f7b81701-0d5c-44ba-b19a-018d5ffa7fba",
   "metadata": {
    "tags": []
   },
   "outputs": [
    {
     "data": {
      "text/plain": [
       "tensor([[0.5837, 0.4105, 0.5104],\n",
       "        [0.9607, 0.4974, 1.0909]])"
      ]
     },
     "execution_count": 49,
     "metadata": {},
     "output_type": "execute_result"
    }
   ],
   "source": [
    "env.len_to_depot"
   ]
  },
  {
   "cell_type": "markdown",
   "id": "a0e4bbc8",
   "metadata": {},
   "source": [
    "### len to future"
   ]
  },
  {
   "cell_type": "markdown",
   "id": "50b4e8e8",
   "metadata": {},
   "source": [
    "(works fine but needs change in unsqueez method size for node_xy_expanded & current_xy_expanded and dim of distance_sum)"
   ]
  },
  {
   "cell_type": "code",
   "execution_count": 50,
   "id": "f30acc4b-3ef4-4373-98bb-56bd22cc7424",
   "metadata": {
    "tags": []
   },
   "outputs": [
    {
     "data": {
      "text/plain": [
       "tensor([[[0.9894, 0.9015],\n",
       "         [0.2022, 0.3955],\n",
       "         [0.7699, 0.9438]],\n",
       "\n",
       "        [[0.4338, 0.0211],\n",
       "         [0.2468, 0.4508],\n",
       "         [0.8966, 0.1446]]])"
      ]
     },
     "execution_count": 50,
     "metadata": {},
     "output_type": "execute_result"
    }
   ],
   "source": [
    "env.calculate_future_len()\n",
    "env.node_xy"
   ]
  },
  {
   "cell_type": "code",
   "execution_count": 51,
   "id": "4d67b764",
   "metadata": {},
   "outputs": [
    {
     "data": {
      "text/plain": [
       "tensor([[[[0.9894, 0.9015],\n",
       "          [0.2022, 0.3955],\n",
       "          [0.7699, 0.9438]],\n",
       "\n",
       "         [[0.9894, 0.9015],\n",
       "          [0.2022, 0.3955],\n",
       "          [0.7699, 0.9438]],\n",
       "\n",
       "         [[0.9894, 0.9015],\n",
       "          [0.2022, 0.3955],\n",
       "          [0.7699, 0.9438]]],\n",
       "\n",
       "\n",
       "        [[[0.4338, 0.0211],\n",
       "          [0.2468, 0.4508],\n",
       "          [0.8966, 0.1446]],\n",
       "\n",
       "         [[0.4338, 0.0211],\n",
       "          [0.2468, 0.4508],\n",
       "          [0.8966, 0.1446]],\n",
       "\n",
       "         [[0.4338, 0.0211],\n",
       "          [0.2468, 0.4508],\n",
       "          [0.8966, 0.1446]]]])"
      ]
     },
     "execution_count": 51,
     "metadata": {},
     "output_type": "execute_result"
    }
   ],
   "source": [
    "env.node_xy_expanded"
   ]
  },
  {
   "cell_type": "code",
   "execution_count": 52,
   "id": "0f9ce7ca",
   "metadata": {},
   "outputs": [
    {
     "data": {
      "text/plain": [
       "tensor([[0.3407, 0.1685, 0.2605],\n",
       "        [0.9230, 0.2474, 1.1901]])"
      ]
     },
     "execution_count": 52,
     "metadata": {},
     "output_type": "execute_result"
    }
   ],
   "source": [
    "env.distance_sums"
   ]
  },
  {
   "cell_type": "code",
   "execution_count": 53,
   "id": "231e330f-c331-456a-a41e-788add080185",
   "metadata": {
    "tags": []
   },
   "outputs": [
    {
     "data": {
      "text/plain": [
       "tensor([[[0.7699, 0.9438],\n",
       "         [0.9894, 0.9015],\n",
       "         [0.7699, 0.9438]],\n",
       "\n",
       "        [[0.4338, 0.0211],\n",
       "         [0.8966, 0.1446],\n",
       "         [0.4338, 0.0211]]])"
      ]
     },
     "execution_count": 53,
     "metadata": {},
     "output_type": "execute_result"
    }
   ],
   "source": [
    "env.node_xy_current"
   ]
  },
  {
   "cell_type": "code",
   "execution_count": 54,
   "id": "4b16d1f5-e029-4cf9-abd1-7c00238fa2f6",
   "metadata": {
    "tags": []
   },
   "outputs": [
    {
     "data": {
      "text/plain": [
       "tensor([[[[0.7699, 0.9438],\n",
       "          [0.7699, 0.9438],\n",
       "          [0.7699, 0.9438]],\n",
       "\n",
       "         [[0.9894, 0.9015],\n",
       "          [0.9894, 0.9015],\n",
       "          [0.9894, 0.9015]],\n",
       "\n",
       "         [[0.7699, 0.9438],\n",
       "          [0.7699, 0.9438],\n",
       "          [0.7699, 0.9438]]],\n",
       "\n",
       "\n",
       "        [[[0.4338, 0.0211],\n",
       "          [0.4338, 0.0211],\n",
       "          [0.4338, 0.0211]],\n",
       "\n",
       "         [[0.8966, 0.1446],\n",
       "          [0.8966, 0.1446],\n",
       "          [0.8966, 0.1446]],\n",
       "\n",
       "         [[0.4338, 0.0211],\n",
       "          [0.4338, 0.0211],\n",
       "          [0.4338, 0.0211]]]])"
      ]
     },
     "execution_count": 54,
     "metadata": {},
     "output_type": "execute_result"
    }
   ],
   "source": [
    "env.current_xy_expanded"
   ]
  },
  {
   "cell_type": "code",
   "execution_count": 55,
   "id": "9a7d3e04",
   "metadata": {},
   "outputs": [
    {
     "data": {
      "text/plain": [
       "tensor([[[0.2235, 0.7892, 0.0000],\n",
       "         [0.0000, 0.9358, 0.2235],\n",
       "         [0.2235, 0.7892, 0.0000]],\n",
       "\n",
       "        [[0.0000, 0.4687, 0.4789],\n",
       "         [0.4789, 0.7183, 0.0000],\n",
       "         [0.0000, 0.4687, 0.4789]]])"
      ]
     },
     "execution_count": 55,
     "metadata": {},
     "output_type": "execute_result"
    }
   ],
   "source": [
    "len_to_future = env.calculate_future_len()\n",
    "len_to_future"
   ]
  },
  {
   "cell_type": "code",
   "execution_count": 56,
   "id": "e1f42c49",
   "metadata": {},
   "outputs": [
    {
     "data": {
      "text/plain": [
       "tensor([[[0., 0., 0., -inf],\n",
       "         [0., -inf, 0., 0.],\n",
       "         [0., 0., 0., -inf]],\n",
       "\n",
       "        [[0., -inf, 0., -inf],\n",
       "         [0., -inf, -inf, -inf],\n",
       "         [0., -inf, 0., -inf]]])"
      ]
     },
     "execution_count": 56,
     "metadata": {},
     "output_type": "execute_result"
    }
   ],
   "source": [
    "env.ninf_mask"
   ]
  },
  {
   "cell_type": "markdown",
   "id": "2e0cc214",
   "metadata": {},
   "source": [
    "### check for finish and reward (done)"
   ]
  },
  {
   "cell_type": "code",
   "execution_count": 57,
   "id": "018937ee",
   "metadata": {},
   "outputs": [
    {
     "data": {
      "text/plain": [
       "tensor([[1, 3, 2],\n",
       "        [2, 2, 3]])"
      ]
     },
     "execution_count": 57,
     "metadata": {},
     "output_type": "execute_result"
    }
   ],
   "source": [
    "env.reset();\n",
    "env.pre_step();\n",
    "selected_tensor = torch.randint(1, pomo_size + 1, (batch_size, pomo_size))\n",
    "selected_tensor"
   ]
  },
  {
   "cell_type": "code",
   "execution_count": 58,
   "id": "3bf7c605",
   "metadata": {},
   "outputs": [
    {
     "name": "stdout",
     "output_type": "stream",
     "text": [
      "selected_len : tensor([[0.5837, 0.5104, 0.4105],\n",
      "        [0.4974, 0.4974, 1.0909]])\n",
      "remaining_len before step : tensor([[2., 2., 2.],\n",
      "        [2., 2., 2.]]) \n",
      "remaining_len after step: tensor([[1.4163, 1.4896, 1.5895],\n",
      "        [1.5026, 1.5026, 0.9091]]) \n"
     ]
    },
    {
     "data": {
      "text/plain": [
       "tensor([[0.5837, 0.5104, 0.4105],\n",
       "        [0.4974, 0.4974, 1.0909]])"
      ]
     },
     "execution_count": 58,
     "metadata": {},
     "output_type": "execute_result"
    }
   ],
   "source": [
    "env.step(selected_tensor)\n",
    "env.calculate_future_len()\n",
    "env.calculate_len_to_depot()\n",
    "env.calculate_two_distance()"
   ]
  },
  {
   "cell_type": "code",
   "execution_count": 59,
   "id": "0d1591b9",
   "metadata": {},
   "outputs": [
    {
     "data": {
      "text/plain": [
       "tensor([[[0., -inf, 0., 0.],\n",
       "         [0., 0., 0., -inf],\n",
       "         [0., 0., -inf, 0.]],\n",
       "\n",
       "        [[0., 0., -inf, -inf],\n",
       "         [0., 0., -inf, -inf],\n",
       "         [0., -inf, -inf, -inf]]])"
      ]
     },
     "execution_count": 59,
     "metadata": {},
     "output_type": "execute_result"
    }
   ],
   "source": [
    "env.ninf_mask"
   ]
  },
  {
   "cell_type": "code",
   "execution_count": 60,
   "id": "ff91aafb",
   "metadata": {},
   "outputs": [
    {
     "data": {
      "text/plain": [
       "tensor([[[0.5837, 1.3463, 0.7339],\n",
       "         [0.8073, 1.1997, 0.5104],\n",
       "         [1.5195, 0.4105, 1.2996]],\n",
       "\n",
       "        [[1.4294, 0.4974, 1.8092],\n",
       "         [1.4294, 0.4974, 1.8092],\n",
       "         [1.4397, 1.2157, 1.0909]]])"
      ]
     },
     "execution_count": 60,
     "metadata": {},
     "output_type": "execute_result"
    }
   ],
   "source": [
    "env.possible_dists"
   ]
  },
  {
   "cell_type": "code",
   "execution_count": 61,
   "id": "791deb04",
   "metadata": {},
   "outputs": [
    {
     "data": {
      "text/plain": [
       "tensor([[5., 1., 2.],\n",
       "        [1., 1., 1.]])"
      ]
     },
     "execution_count": 61,
     "metadata": {},
     "output_type": "execute_result"
    }
   ],
   "source": [
    "env.selected_prize"
   ]
  },
  {
   "cell_type": "code",
   "execution_count": 62,
   "id": "8eb3fc47",
   "metadata": {},
   "outputs": [
    {
     "data": {
      "text/plain": [
       "tensor([[5., 1., 2.],\n",
       "        [1., 1., 1.]])"
      ]
     },
     "execution_count": 62,
     "metadata": {},
     "output_type": "execute_result"
    }
   ],
   "source": [
    "env.collected_prize"
   ]
  },
  {
   "cell_type": "code",
   "execution_count": 63,
   "id": "f9434d61",
   "metadata": {},
   "outputs": [
    {
     "data": {
      "text/plain": [
       "tensor([[2, 2, 2],\n",
       "        [2, 2, 1]])"
      ]
     },
     "execution_count": 63,
     "metadata": {},
     "output_type": "execute_result"
    }
   ],
   "source": [
    "#must be changed by hands based on random selected numbers\n",
    "selected_tensor[0][0] = 2\n",
    "selected_tensor[0][1] = 2\n",
    "selected_tensor[0][2] = 2\n",
    "selected_tensor[1][0] = 2\n",
    "selected_tensor[1][1] = 2\n",
    "selected_tensor[1][2] = 1\n",
    "selected_tensor"
   ]
  },
  {
   "cell_type": "code",
   "execution_count": 64,
   "id": "1196a088",
   "metadata": {},
   "outputs": [
    {
     "name": "stdout",
     "output_type": "stream",
     "text": [
      "selected_len : tensor([[0.9358, 0.7892, 0.0000],\n",
      "        [0.0000, 0.0000, 0.4789]])\n",
      "remaining_len before step : tensor([[1.4163, 1.4896, 1.5895],\n",
      "        [1.5026, 1.5026, 0.9091]]) \n",
      "remaining_len after step: tensor([[0.4805, 0.7004, 1.5895],\n",
      "        [1.5026, 1.5026, 0.4301]]) \n"
     ]
    },
    {
     "data": {
      "text/plain": [
       "tensor([[0.9358, 0.7892, 0.0000],\n",
       "        [0.0000, 0.0000, 0.4789]])"
      ]
     },
     "execution_count": 64,
     "metadata": {},
     "output_type": "execute_result"
    }
   ],
   "source": [
    "env.step(selected_tensor)\n",
    "env.calculate_future_len()\n",
    "env.calculate_len_to_depot()\n",
    "env.calculate_two_distance()"
   ]
  },
  {
   "cell_type": "code",
   "execution_count": 65,
   "id": "d27b0b44",
   "metadata": {},
   "outputs": [
    {
     "data": {
      "text/plain": [
       "tensor([[[0., -inf, -inf, -inf],\n",
       "         [0., -inf, -inf, -inf],\n",
       "         [0., 0., -inf, 0.]],\n",
       "\n",
       "        [[0., 0., -inf, -inf],\n",
       "         [0., 0., -inf, -inf],\n",
       "         [0., -inf, -inf, -inf]]])"
      ]
     },
     "execution_count": 65,
     "metadata": {},
     "output_type": "execute_result"
    }
   ],
   "source": [
    "env.ninf_mask"
   ]
  },
  {
   "cell_type": "code",
   "execution_count": 66,
   "id": "db74537c",
   "metadata": {},
   "outputs": [
    {
     "data": {
      "text/plain": [
       "tensor([[[1.5195, 0.4105, 1.2996],\n",
       "         [1.5195, 0.4105, 1.2996],\n",
       "         [1.5195, 0.4105, 1.2996]],\n",
       "\n",
       "        [[1.4294, 0.4974, 1.8092],\n",
       "         [1.4294, 0.4974, 1.8092],\n",
       "         [0.9607, 0.9661, 1.5699]]])"
      ]
     },
     "execution_count": 66,
     "metadata": {},
     "output_type": "execute_result"
    }
   ],
   "source": [
    "env.possible_dists"
   ]
  },
  {
   "cell_type": "code",
   "execution_count": 67,
   "id": "958a5c52",
   "metadata": {},
   "outputs": [
    {
     "data": {
      "text/plain": [
       "tensor([[2., 2., 2.],\n",
       "        [1., 1., 4.]])"
      ]
     },
     "execution_count": 67,
     "metadata": {},
     "output_type": "execute_result"
    }
   ],
   "source": [
    "env.selected_prize"
   ]
  },
  {
   "cell_type": "code",
   "execution_count": 68,
   "id": "51b0e23b",
   "metadata": {},
   "outputs": [
    {
     "data": {
      "text/plain": [
       "tensor([[7., 3., 4.],\n",
       "        [2., 2., 5.]])"
      ]
     },
     "execution_count": 68,
     "metadata": {},
     "output_type": "execute_result"
    }
   ],
   "source": [
    "env.collected_prize"
   ]
  },
  {
   "cell_type": "code",
   "execution_count": 69,
   "id": "973345bf",
   "metadata": {},
   "outputs": [
    {
     "data": {
      "text/plain": [
       "tensor([[1, 3, 1],\n",
       "        [0, 0, 0]])"
      ]
     },
     "execution_count": 69,
     "metadata": {},
     "output_type": "execute_result"
    }
   ],
   "source": [
    "#must be changed by hands based on random selected numbers\n",
    "selected_tensor[0][0] = 1\n",
    "selected_tensor[0][1] = 3\n",
    "selected_tensor[0][2] = 1\n",
    "selected_tensor[1][0] = 0\n",
    "selected_tensor[1][1] = 0\n",
    "selected_tensor[1][2] = 0\n",
    "selected_tensor"
   ]
  },
  {
   "cell_type": "code",
   "execution_count": 70,
   "id": "b3d06a27",
   "metadata": {},
   "outputs": [
    {
     "name": "stdout",
     "output_type": "stream",
     "text": [
      "selected_len : tensor([[0.9358, 0.7892, 0.9358],\n",
      "        [0.4974, 0.4974, 0.9607]])\n",
      "remaining_len before step : tensor([[0.4805, 0.7004, 1.5895],\n",
      "        [1.5026, 1.5026, 0.4301]]) \n",
      "remaining_len after step: tensor([[-0.4553, -0.0888,  0.6537],\n",
      "        [ 1.0052,  1.0052, -0.5306]]) \n"
     ]
    },
    {
     "data": {
      "text/plain": [
       "tensor([[0.9358, 0.7892, 0.9358],\n",
       "        [0.4974, 0.4974, 0.9607]])"
      ]
     },
     "execution_count": 70,
     "metadata": {},
     "output_type": "execute_result"
    }
   ],
   "source": [
    "env.step(selected_tensor)\n",
    "env.calculate_future_len()\n",
    "env.calculate_len_to_depot()\n",
    "env.calculate_two_distance()"
   ]
  },
  {
   "cell_type": "code",
   "execution_count": 71,
   "id": "11b0f1bd",
   "metadata": {},
   "outputs": [
    {
     "data": {
      "text/plain": [
       "tensor([[[0., -inf, -inf, -inf],\n",
       "         [0., -inf, -inf, -inf],\n",
       "         [0., -inf, -inf, -inf]],\n",
       "\n",
       "        [[-inf, -inf, -inf, -inf],\n",
       "         [-inf, -inf, -inf, -inf],\n",
       "         [-inf, -inf, -inf, -inf]]])"
      ]
     },
     "execution_count": 71,
     "metadata": {},
     "output_type": "execute_result"
    }
   ],
   "source": [
    "env.ninf_mask"
   ]
  },
  {
   "cell_type": "code",
   "execution_count": 72,
   "id": "95e0312a",
   "metadata": {},
   "outputs": [
    {
     "data": {
      "text/plain": [
       "tensor([[False, False, False],\n",
       "        [ True,  True,  True]])"
      ]
     },
     "execution_count": 72,
     "metadata": {},
     "output_type": "execute_result"
    }
   ],
   "source": [
    "env.newly_finished"
   ]
  },
  {
   "cell_type": "code",
   "execution_count": 73,
   "id": "fe506fb6",
   "metadata": {},
   "outputs": [
    {
     "data": {
      "text/plain": [
       "tensor([[False, False, False],\n",
       "        [ True,  True,  True]])"
      ]
     },
     "execution_count": 73,
     "metadata": {},
     "output_type": "execute_result"
    }
   ],
   "source": [
    "env.finished"
   ]
  },
  {
   "cell_type": "code",
   "execution_count": 74,
   "id": "929556d7",
   "metadata": {},
   "outputs": [
    {
     "data": {
      "text/plain": [
       "tensor([[5., 1., 5.],\n",
       "        [0., 0., 0.]])"
      ]
     },
     "execution_count": 74,
     "metadata": {},
     "output_type": "execute_result"
    }
   ],
   "source": [
    "env.selected_prize"
   ]
  },
  {
   "cell_type": "code",
   "execution_count": 75,
   "id": "926641c6",
   "metadata": {},
   "outputs": [
    {
     "data": {
      "text/plain": [
       "tensor([[12.,  4.,  9.],\n",
       "        [ 2.,  2.,  5.]])"
      ]
     },
     "execution_count": 75,
     "metadata": {},
     "output_type": "execute_result"
    }
   ],
   "source": [
    "env.collected_prize"
   ]
  },
  {
   "cell_type": "code",
   "execution_count": 76,
   "id": "35a5a29d",
   "metadata": {},
   "outputs": [
    {
     "data": {
      "text/plain": [
       "tensor([[0, 0, 0],\n",
       "        [0, 0, 0]])"
      ]
     },
     "execution_count": 76,
     "metadata": {},
     "output_type": "execute_result"
    }
   ],
   "source": [
    "#must be changed by hands based on random selected numbers\n",
    "selected_tensor[0][0] = 0\n",
    "selected_tensor[0][1] = 0\n",
    "selected_tensor[0][2] = 0\n",
    "selected_tensor[1][0] = 0\n",
    "selected_tensor[1][1] = 0\n",
    "selected_tensor[1][2] = 0\n",
    "selected_tensor"
   ]
  },
  {
   "cell_type": "code",
   "execution_count": 77,
   "id": "7192ec1f",
   "metadata": {},
   "outputs": [
    {
     "name": "stdout",
     "output_type": "stream",
     "text": [
      "selected_len : tensor([[0.5837, 0.5104, 0.5837],\n",
      "        [0.0000, 0.0000, 0.0000]])\n",
      "remaining_len before step : tensor([[-0.4553, -0.0888,  0.6537],\n",
      "        [ 1.0052,  1.0052, -0.5306]]) \n",
      "remaining_len after step: tensor([[-1.0390, -0.5992,  0.0700],\n",
      "        [ 1.0052,  1.0052, -0.5306]]) \n"
     ]
    },
    {
     "data": {
      "text/plain": [
       "(Step_state(BATCH_IDX=tensor([[0, 0, 0],\n",
       "         [1, 1, 1]]), POMO_IDX=tensor([[0, 1, 2],\n",
       "         [0, 1, 2]]), current_node=tensor([[0, 0, 0],\n",
       "         [0, 0, 0]]), selected_count=4, ninf_mask=tensor([[[-inf, -inf, -inf, -inf],\n",
       "          [-inf, -inf, -inf, -inf],\n",
       "          [-inf, -inf, -inf, -inf]],\n",
       " \n",
       "         [[-inf, -inf, -inf, -inf],\n",
       "          [-inf, -inf, -inf, -inf],\n",
       "          [-inf, -inf, -inf, -inf]]]), finished=tensor([[True, True, True],\n",
       "         [True, True, True]])),\n",
       " tensor([[12.,  4.,  9.],\n",
       "         [ 2.,  2.,  5.]]),\n",
       " tensor(True))"
      ]
     },
     "execution_count": 77,
     "metadata": {},
     "output_type": "execute_result"
    }
   ],
   "source": [
    "env.step(selected_tensor)"
   ]
  },
  {
   "cell_type": "code",
   "execution_count": 78,
   "id": "7e00eb80",
   "metadata": {},
   "outputs": [
    {
     "data": {
      "text/plain": [
       "tensor([[[-inf, -inf, -inf, -inf],\n",
       "         [-inf, -inf, -inf, -inf],\n",
       "         [-inf, -inf, -inf, -inf]],\n",
       "\n",
       "        [[-inf, -inf, -inf, -inf],\n",
       "         [-inf, -inf, -inf, -inf],\n",
       "         [-inf, -inf, -inf, -inf]]])"
      ]
     },
     "execution_count": 78,
     "metadata": {},
     "output_type": "execute_result"
    }
   ],
   "source": [
    "env.ninf_mask"
   ]
  },
  {
   "cell_type": "code",
   "execution_count": null,
   "id": "f1121981",
   "metadata": {},
   "outputs": [],
   "source": []
  }
 ],
 "metadata": {
  "kernelspec": {
   "display_name": "Python 3 (ipykernel)",
   "language": "python",
   "name": "python3"
  },
  "language_info": {
   "codemirror_mode": {
    "name": "ipython",
    "version": 3
   },
   "file_extension": ".py",
   "mimetype": "text/x-python",
   "name": "python",
   "nbconvert_exporter": "python",
   "pygments_lexer": "ipython3",
   "version": "3.7.6"
  },
  "widgets": {
   "application/vnd.jupyter.widget-state+json": {
    "state": {},
    "version_major": 2,
    "version_minor": 0
   }
  }
 },
 "nbformat": 4,
 "nbformat_minor": 5
}
