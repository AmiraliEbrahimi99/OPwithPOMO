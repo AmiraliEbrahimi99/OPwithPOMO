{
 "cells": [
  {
   "cell_type": "markdown",
   "id": "9f002c31-1aaa-4b9d-a894-26263d887d96",
   "metadata": {},
   "source": [
    "# test problem def "
   ]
  },
  {
   "cell_type": "code",
   "execution_count": 1,
   "id": "aa7aaef9-acca-417c-b850-eb09f5d72996",
   "metadata": {
    "tags": []
   },
   "outputs": [],
   "source": [
    "import OPProblemDef as OP "
   ]
  },
  {
   "cell_type": "code",
   "execution_count": 2,
   "id": "c43bc679-3994-4235-b58a-432b305dd8c0",
   "metadata": {
    "tags": []
   },
   "outputs": [],
   "source": [
    "depot_xy , node_xy , prize = OP.get_random_problems(2 , 6 )"
   ]
  },
  {
   "cell_type": "code",
   "execution_count": 3,
   "id": "85cba300-eb9d-473e-a208-c8e435d26b53",
   "metadata": {
    "tags": []
   },
   "outputs": [
    {
     "data": {
      "text/plain": [
       "tensor([[6, 5, 6, 5, 8, 3],\n",
       "        [9, 8, 7, 4, 9, 6]])"
      ]
     },
     "execution_count": 3,
     "metadata": {},
     "output_type": "execute_result"
    }
   ],
   "source": [
    "prize"
   ]
  },
  {
   "cell_type": "code",
   "execution_count": 4,
   "id": "ba4ee1c0-ef1f-4857-9786-725948d502e6",
   "metadata": {
    "tags": []
   },
   "outputs": [
    {
     "data": {
      "text/plain": [
       "tensor([[[0.6621, 0.7308],\n",
       "         [0.1676, 0.7511],\n",
       "         [0.0975, 0.7858],\n",
       "         [0.4921, 0.0807],\n",
       "         [0.6772, 0.6524],\n",
       "         [0.3185, 0.4541]],\n",
       "\n",
       "        [[0.2814, 0.8638],\n",
       "         [0.5290, 0.1931],\n",
       "         [0.8557, 0.1836],\n",
       "         [0.4277, 0.0918],\n",
       "         [0.7902, 0.7151],\n",
       "         [0.4692, 0.0047]]])"
      ]
     },
     "execution_count": 4,
     "metadata": {},
     "output_type": "execute_result"
    }
   ],
   "source": [
    "node_xy"
   ]
  },
  {
   "cell_type": "code",
   "execution_count": 5,
   "id": "ace9974d-9f58-406c-a8c0-20daa2ef6af8",
   "metadata": {
    "tags": []
   },
   "outputs": [
    {
     "data": {
      "text/plain": [
       "tensor([[[0.7993, 0.1572]],\n",
       "\n",
       "        [[0.4959, 0.2328]]])"
      ]
     },
     "execution_count": 5,
     "metadata": {},
     "output_type": "execute_result"
    }
   ],
   "source": [
    "depot_xy"
   ]
  },
  {
   "cell_type": "markdown",
   "id": "3a27cdd8-e038-4192-a616-5a70518aa386",
   "metadata": {},
   "source": [
    "# test env"
   ]
  },
  {
   "cell_type": "code",
   "execution_count": 1,
   "id": "d3baaac1-948e-4826-93e2-5a0a3ab7385b",
   "metadata": {},
   "outputs": [],
   "source": [
    "from POMO import OPEnv"
   ]
  },
  {
   "cell_type": "code",
   "execution_count": 2,
   "id": "89b9a948-7ef2-4daa-b79b-1030bf165074",
   "metadata": {
    "tags": []
   },
   "outputs": [],
   "source": [
    "stat_zero  = OPEnv.Reset_state()"
   ]
  },
  {
   "cell_type": "code",
   "execution_count": 5,
   "id": "7c1ca59e-6c9f-4d9a-8670-b9e5d0d73f08",
   "metadata": {
    "tags": []
   },
   "outputs": [],
   "source": [
    "stat_zero.node_xy"
   ]
  },
  {
   "cell_type": "code",
   "execution_count": 11,
   "id": "71faffe2-f657-49c2-88b7-6db02b914d07",
   "metadata": {
    "tags": []
   },
   "outputs": [],
   "source": [
    "import torch"
   ]
  },
  {
   "cell_type": "code",
   "execution_count": 17,
   "id": "8fb0dbe1-fdfe-4d27-8245-9c0c2f18d469",
   "metadata": {},
   "outputs": [],
   "source": [
    "BATCH_IDX = torch.arange(2)[:, None].expand(2, 10)"
   ]
  },
  {
   "cell_type": "code",
   "execution_count": 18,
   "id": "a97ffb5c-6f14-4aab-bf57-2393df627e7a",
   "metadata": {
    "tags": []
   },
   "outputs": [
    {
     "data": {
      "text/plain": [
       "tensor([[0, 0, 0, 0, 0, 0, 0, 0, 0, 0],\n",
       "        [1, 1, 1, 1, 1, 1, 1, 1, 1, 1]])"
      ]
     },
     "execution_count": 18,
     "metadata": {},
     "output_type": "execute_result"
    }
   ],
   "source": [
    "BATCH_IDX"
   ]
  },
  {
   "cell_type": "code",
   "execution_count": 35,
   "id": "ee4f22be-a9af-4414-803c-8efd1518fa13",
   "metadata": {
    "tags": []
   },
   "outputs": [
    {
     "data": {
      "text/plain": [
       "tensor([[0, 1, 2, 3, 4, 5, 6, 7, 8, 9],\n",
       "        [0, 1, 2, 3, 4, 5, 6, 7, 8, 9]])"
      ]
     },
     "execution_count": 35,
     "metadata": {},
     "output_type": "execute_result"
    }
   ],
   "source": [
    "POMO_index = torch.arange(10)[None, :].expand(2, 10)\n",
    "POMO_index"
   ]
  },
  {
   "cell_type": "code",
   "execution_count": 21,
   "id": "a7e98afa-7280-442c-9357-99632055603b",
   "metadata": {
    "tags": []
   },
   "outputs": [
    {
     "data": {
      "text/plain": [
       "range(0, 4)"
      ]
     },
     "execution_count": 21,
     "metadata": {},
     "output_type": "execute_result"
    }
   ],
   "source": []
  },
  {
   "cell_type": "code",
   "execution_count": 36,
   "id": "75a08da1-f39a-42a6-95e9-091e28fb742f",
   "metadata": {
    "tags": []
   },
   "outputs": [
    {
     "name": "stdout",
     "output_type": "stream",
     "text": [
      "Original tensor shape: torch.Size([1, 2, 1, 3, 1])\n",
      "Squeezed tensor shape: torch.Size([2, 3])\n",
      "Specific squeeze shape: torch.Size([1, 2, 3, 1])\n"
     ]
    }
   ],
   "source": [
    "import torch\n",
    "\n",
    "# A tensor with some singleton dimensions\n",
    "t = torch.zeros(1, 2, 1, 3, 1)\n",
    "\n",
    "# Squeezing without specifying a dimension\n",
    "squeezed_t = t.squeeze()\n",
    "\n",
    "# Squeezing a specific dimension\n",
    "specific_squeeze = t.squeeze(2)\n",
    "\n",
    "print(\"Original tensor shape:\", t.shape)\n",
    "print(\"Squeezed tensor shape:\", squeezed_t.shape)\n",
    "print(\"Specific squeeze shape:\", specific_squeeze.shape)\n"
   ]
  },
  {
   "cell_type": "code",
   "execution_count": 39,
   "id": "02b7bf23-00aa-4eb8-b3f9-d2e81ae988e4",
   "metadata": {
    "tags": []
   },
   "outputs": [
    {
     "name": "stdout",
     "output_type": "stream",
     "text": [
      "tensor([[1, 2],\n",
      "        [4, 3]])\n"
     ]
    }
   ],
   "source": [
    "import torch\n",
    "\n",
    "# Example tensor\n",
    "t = torch.tensor([[1, 2], [3, 4]])\n",
    "\n",
    "# Index tensor\n",
    "index = torch.tensor([[0, 1], [1, 0]])\n",
    "\n",
    "# Gathering elements\n",
    "gathered = t.gather(dim=1, index=index)\n",
    "\n",
    "print(gathered)\n"
   ]
  },
  {
   "cell_type": "code",
   "execution_count": 40,
   "id": "48287e7a-cc5c-40a9-9489-a9ef6626b61d",
   "metadata": {
    "tags": []
   },
   "outputs": [
    {
     "data": {
      "text/plain": [
       "tensor([[0, 1],\n",
       "        [1, 0]])"
      ]
     },
     "execution_count": 40,
     "metadata": {},
     "output_type": "execute_result"
    }
   ],
   "source": [
    "index"
   ]
  },
  {
   "cell_type": "code",
   "execution_count": null,
   "id": "cd31c6a4-6412-4b18-af70-7ab7fe48138e",
   "metadata": {},
   "outputs": [],
   "source": []
  }
 ],
 "metadata": {
  "kernelspec": {
   "display_name": "Python 3 (ipykernel)",
   "language": "python",
   "name": "python3"
  },
  "language_info": {
   "codemirror_mode": {
    "name": "ipython",
    "version": 3
   },
   "file_extension": ".py",
   "mimetype": "text/x-python",
   "name": "python",
   "nbconvert_exporter": "python",
   "pygments_lexer": "ipython3",
   "version": "3.7.6"
  },
  "widgets": {
   "application/vnd.jupyter.widget-state+json": {
    "state": {},
    "version_major": 2,
    "version_minor": 0
   }
  }
 },
 "nbformat": 4,
 "nbformat_minor": 5
}
