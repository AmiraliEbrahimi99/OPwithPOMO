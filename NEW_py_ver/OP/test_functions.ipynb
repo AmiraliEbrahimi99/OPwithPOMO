{
 "cells": [
  {
   "cell_type": "markdown",
   "id": "9f002c31-1aaa-4b9d-a894-26263d887d96",
   "metadata": {},
   "source": [
    "# test problem def "
   ]
  },
  {
   "cell_type": "code",
   "execution_count": null,
   "id": "aa7aaef9-acca-417c-b850-eb09f5d72996",
   "metadata": {
    "tags": []
   },
   "outputs": [],
   "source": [
    "import OPProblemDef as OP "
   ]
  },
  {
   "cell_type": "code",
   "execution_count": null,
   "id": "c43bc679-3994-4235-b58a-432b305dd8c0",
   "metadata": {
    "tags": []
   },
   "outputs": [],
   "source": [
    "depot_xy , node_xy , prize = OP.get_random_problems(2 , 6 )"
   ]
  },
  {
   "cell_type": "code",
   "execution_count": null,
   "id": "85cba300-eb9d-473e-a208-c8e435d26b53",
   "metadata": {
    "tags": []
   },
   "outputs": [],
   "source": [
    "prize"
   ]
  },
  {
   "cell_type": "code",
   "execution_count": null,
   "id": "ba4ee1c0-ef1f-4857-9786-725948d502e6",
   "metadata": {
    "tags": []
   },
   "outputs": [],
   "source": [
    "node_xy"
   ]
  },
  {
   "cell_type": "code",
   "execution_count": null,
   "id": "ace9974d-9f58-406c-a8c0-20daa2ef6af8",
   "metadata": {
    "tags": []
   },
   "outputs": [],
   "source": [
    "depot_xy"
   ]
  },
  {
   "cell_type": "markdown",
   "id": "3a27cdd8-e038-4192-a616-5a70518aa386",
   "metadata": {},
   "source": [
    "# test env"
   ]
  },
  {
   "cell_type": "code",
   "execution_count": 1,
   "id": "d3baaac1-948e-4826-93e2-5a0a3ab7385b",
   "metadata": {},
   "outputs": [],
   "source": [
    "from POMO import OPEnv"
   ]
  },
  {
   "cell_type": "code",
   "execution_count": 2,
   "id": "6b6783e1-baa4-4046-93e2-dec6cd6f4c9e",
   "metadata": {
    "tags": []
   },
   "outputs": [],
   "source": [
    "env_params = {\n",
    "    'problem_size': 3,\n",
    "    'pomo_size': 3 }\n",
    "#batch_size = 2"
   ]
  },
  {
   "cell_type": "code",
   "execution_count": 3,
   "id": "f0b8312c-2e40-4893-88c9-0163d0283064",
   "metadata": {
    "tags": []
   },
   "outputs": [],
   "source": [
    "env = OPEnv.OPEnv(**env_params)"
   ]
  },
  {
   "cell_type": "markdown",
   "id": "915c6976-bb90-45ba-b7a3-3b862b0a9f12",
   "metadata": {},
   "source": [
    "self.reset_state.depot_xy = depot_xy\n",
    "self.reset_state.node_xy = node_xy\n",
    "self.reset_state.node_prize = node_prize\n",
    "\n",
    "self.step_state.BATCH_IDX = self.BATCH_IDX\n",
    "self.step_state.POMO_IDX = self.POMO_IDX"
   ]
  },
  {
   "cell_type": "markdown",
   "id": "65770dd4-eeb6-4e55-88f0-e968bd006329",
   "metadata": {},
   "source": [
    "## load problems\n"
   ]
  },
  {
   "cell_type": "code",
   "execution_count": 4,
   "id": "950684dd-fed2-4fa5-94ae-d872848e3893",
   "metadata": {
    "tags": []
   },
   "outputs": [],
   "source": [
    "#batch_size = 2\n",
    "env.load_problems(2)"
   ]
  },
  {
   "cell_type": "code",
   "execution_count": 5,
   "id": "0a7a9e37-1b9f-44a5-abdd-f345413315fb",
   "metadata": {
    "tags": []
   },
   "outputs": [
    {
     "data": {
      "text/plain": [
       "tensor([[[0.3672, 0.2785]],\n",
       "\n",
       "        [[0.3523, 0.3545]]])"
      ]
     },
     "execution_count": 5,
     "metadata": {},
     "output_type": "execute_result"
    }
   ],
   "source": [
    "env.reset_state.depot_xy"
   ]
  },
  {
   "cell_type": "code",
   "execution_count": 6,
   "id": "ba88f538-5ae9-400d-9919-fec1095075c4",
   "metadata": {
    "tags": []
   },
   "outputs": [
    {
     "data": {
      "text/plain": [
       "tensor([[[0.9233, 0.7080],\n",
       "         [0.0818, 0.0269],\n",
       "         [0.8004, 0.0124]],\n",
       "\n",
       "        [[0.0549, 0.0404],\n",
       "         [0.2242, 0.2826],\n",
       "         [0.0987, 0.3150]]])"
      ]
     },
     "execution_count": 6,
     "metadata": {},
     "output_type": "execute_result"
    }
   ],
   "source": [
    "env.reset_state.node_xy"
   ]
  },
  {
   "cell_type": "code",
   "execution_count": 7,
   "id": "49685fc5-7a3f-4dbb-8230-5b88d50224db",
   "metadata": {
    "tags": []
   },
   "outputs": [
    {
     "data": {
      "text/plain": [
       "tensor([[4, 6, 6],\n",
       "        [4, 7, 4]])"
      ]
     },
     "execution_count": 7,
     "metadata": {},
     "output_type": "execute_result"
    }
   ],
   "source": [
    "env.reset_state.node_prize"
   ]
  },
  {
   "cell_type": "markdown",
   "id": "2d7aa644-1c76-4f71-a0ac-2039013ca8eb",
   "metadata": {},
   "source": [
    "## reset "
   ]
  },
  {
   "cell_type": "code",
   "execution_count": 8,
   "id": "8124e52a-3302-4c5c-a7a5-53e7d9b1d718",
   "metadata": {
    "tags": []
   },
   "outputs": [
    {
     "data": {
      "text/plain": [
       "(Reset_state(depot_xy=tensor([[[0.3672, 0.2785]],\n",
       " \n",
       "         [[0.3523, 0.3545]]]), node_xy=tensor([[[0.9233, 0.7080],\n",
       "          [0.0818, 0.0269],\n",
       "          [0.8004, 0.0124]],\n",
       " \n",
       "         [[0.0549, 0.0404],\n",
       "          [0.2242, 0.2826],\n",
       "          [0.0987, 0.3150]]]), node_prize=tensor([[4, 6, 6],\n",
       "         [4, 7, 4]])),\n",
       " None,\n",
       " False)"
      ]
     },
     "execution_count": 8,
     "metadata": {},
     "output_type": "execute_result"
    }
   ],
   "source": [
    "env.reset()"
   ]
  },
  {
   "cell_type": "markdown",
   "id": "17df86c2-9afc-4e2d-a918-f8de9ee7cda2",
   "metadata": {},
   "source": [
    "## pre step "
   ]
  },
  {
   "cell_type": "code",
   "execution_count": 9,
   "id": "52d4ba57-d2f5-4086-88ca-2fd53a2ee3f2",
   "metadata": {
    "tags": []
   },
   "outputs": [
    {
     "data": {
      "text/plain": [
       "(Step_state(BATCH_IDX=tensor([[0, 0, 0],\n",
       "         [1, 1, 1]]), POMO_IDX=tensor([[0, 1, 2],\n",
       "         [0, 1, 2]]), current_node=None, selected_count=0, ninf_mask=tensor([[[0., 0., 0., 0.],\n",
       "          [0., 0., 0., 0.],\n",
       "          [0., 0., 0., 0.]],\n",
       " \n",
       "         [[0., 0., 0., 0.],\n",
       "          [0., 0., 0., 0.],\n",
       "          [0., 0., 0., 0.]]]), finished=tensor([[False, False, False],\n",
       "         [False, False, False]])),\n",
       " None,\n",
       " False)"
      ]
     },
     "execution_count": 9,
     "metadata": {},
     "output_type": "execute_result"
    }
   ],
   "source": [
    "env.pre_step()"
   ]
  },
  {
   "cell_type": "markdown",
   "id": "53533b8d-6039-455d-8a5d-7b5025d7072e",
   "metadata": {},
   "source": [
    "## step "
   ]
  },
  {
   "cell_type": "code",
   "execution_count": 10,
   "id": "7fe508d8-09d7-4db3-92e3-3cdb92df6d27",
   "metadata": {
    "tags": []
   },
   "outputs": [
    {
     "data": {
      "text/plain": [
       "torch.Size([2, 3])"
      ]
     },
     "execution_count": 10,
     "metadata": {},
     "output_type": "execute_result"
    }
   ],
   "source": [
    "import torch\n",
    "\n",
    "\n",
    "batch_size = 2\n",
    "pomo_size = 3  \n",
    "\n",
    "selected_tensor = torch.randint(1, pomo_size + 1, (batch_size, pomo_size))\n",
    "selected_tensor.shape"
   ]
  },
  {
   "cell_type": "code",
   "execution_count": 11,
   "id": "e8ecf188-b105-4ce0-ba26-f2bf61ba7a1c",
   "metadata": {
    "tags": []
   },
   "outputs": [
    {
     "data": {
      "text/plain": [
       "tensor([[2, 1, 3],\n",
       "        [1, 3, 1]])"
      ]
     },
     "execution_count": 11,
     "metadata": {},
     "output_type": "execute_result"
    }
   ],
   "source": [
    "selected_tensor"
   ]
  },
  {
   "cell_type": "code",
   "execution_count": 12,
   "id": "8b0b1589-8161-4e72-945c-15f5bba46abb",
   "metadata": {
    "tags": []
   },
   "outputs": [
    {
     "name": "stdout",
     "output_type": "stream",
     "text": [
      "selected_len : tensor([[0.3805, 0.7027, 0.5085],\n",
      "        [0.4325, 0.2566, 0.4325]])\n",
      "remaining_len : tensor([[1., 1., 1.],\n",
      "        [1., 1., 1.]]) \n",
      "remaining_len : tensor([[0.6195, 0.2973, 0.4915],\n",
      "        [0.5675, 0.7434, 0.5675]]) \n"
     ]
    }
   ],
   "source": [
    "env.step(selected_tensor)"
   ]
  },
  {
   "cell_type": "code",
   "execution_count": null,
   "id": "77f7389e-4338-4720-9326-bb981d44f143",
   "metadata": {
    "tags": []
   },
   "outputs": [],
   "source": [
    "env.last_node\n"
   ]
  },
  {
   "cell_type": "code",
   "execution_count": null,
   "id": "835ee727-07a1-4b60-b5fd-7f9a3aa2946c",
   "metadata": {
    "tags": []
   },
   "outputs": [],
   "source": [
    "env.current_node"
   ]
  },
  {
   "cell_type": "code",
   "execution_count": null,
   "id": "2fc0ffba-1101-409e-81a9-a82367b43627",
   "metadata": {
    "tags": []
   },
   "outputs": [],
   "source": [
    "env.prize_list"
   ]
  },
  {
   "cell_type": "code",
   "execution_count": null,
   "id": "0293d203-d7f0-4f2e-9dd9-b60b0f752ef5",
   "metadata": {
    "tags": []
   },
   "outputs": [],
   "source": [
    "env.gathering_index"
   ]
  },
  {
   "cell_type": "code",
   "execution_count": null,
   "id": "1dbcc438-bf7c-458b-a258-faad969e030d",
   "metadata": {
    "tags": []
   },
   "outputs": [],
   "source": [
    "env.selected_prize"
   ]
  },
  {
   "cell_type": "code",
   "execution_count": null,
   "id": "081b7b6e-7052-4479-893a-3dab3c7cf2be",
   "metadata": {},
   "outputs": [],
   "source": [
    "env.ninf_mask"
   ]
  },
  {
   "cell_type": "markdown",
   "id": "9bfd8245-0016-4e43-8dfc-ff228a3cb7b4",
   "metadata": {},
   "source": [
    " check for finish "
   ]
  },
  {
   "cell_type": "code",
   "execution_count": null,
   "id": "b9c5d915-c59b-4e48-b6cd-64cbc40c4100",
   "metadata": {
    "tags": []
   },
   "outputs": [],
   "source": [
    "selected_tensor"
   ]
  },
  {
   "cell_type": "code",
   "execution_count": null,
   "id": "0c5baa9a-e552-4d54-85a5-42d52c091b06",
   "metadata": {
    "tags": []
   },
   "outputs": [],
   "source": [
    "selected_tensor[0][0] = 1\n",
    "selected_tensor[0][1] = 1\n",
    "selected_tensor[0][2] = 3\n",
    "selected_tensor[1][0] = 0\n",
    "selected_tensor[1][1] = 1\n",
    "selected_tensor[1][2] = 0"
   ]
  },
  {
   "cell_type": "code",
   "execution_count": null,
   "id": "90ad0524-4052-4e06-b543-9d0b771537ee",
   "metadata": {
    "tags": []
   },
   "outputs": [],
   "source": [
    "selected_tensor"
   ]
  },
  {
   "cell_type": "code",
   "execution_count": null,
   "id": "7235ecc2-ec00-49d8-9461-7bf3e8ff3b49",
   "metadata": {
    "tags": []
   },
   "outputs": [],
   "source": [
    "env.step(selected_tensor)"
   ]
  },
  {
   "cell_type": "code",
   "execution_count": null,
   "id": "0c78f9c5-c8b5-43af-a1a9-1807ae35427b",
   "metadata": {
    "tags": []
   },
   "outputs": [],
   "source": [
    "# env.ninf_mask"
   ]
  },
  {
   "cell_type": "code",
   "execution_count": null,
   "id": "e85035ce-d1cf-4c00-8dc8-367e0e804501",
   "metadata": {
    "tags": []
   },
   "outputs": [],
   "source": [
    "# env.last_node"
   ]
  },
  {
   "cell_type": "code",
   "execution_count": null,
   "id": "b81d9c02-1827-4662-a389-2592604fd6d1",
   "metadata": {
    "tags": []
   },
   "outputs": [],
   "source": [
    "# env.current_node"
   ]
  },
  {
   "cell_type": "code",
   "execution_count": null,
   "id": "66721a80-44ad-4c07-adfd-b120611d85ab",
   "metadata": {
    "tags": []
   },
   "outputs": [],
   "source": [
    "# selected_tensor[0][0] = 1\n",
    "# selected_tensor[0][1] = 1\n",
    "# selected_tensor[0][2] = 3"
   ]
  },
  {
   "cell_type": "code",
   "execution_count": null,
   "id": "8e18ed6a-8c51-42f0-b24b-04799b1529e1",
   "metadata": {
    "tags": []
   },
   "outputs": [],
   "source": [
    "# env.step(selected_tensor)"
   ]
  },
  {
   "cell_type": "code",
   "execution_count": null,
   "id": "37f7fa13-a40b-496e-82b8-a2ea1c421b28",
   "metadata": {
    "tags": []
   },
   "outputs": [],
   "source": [
    "# env.ninf_mask"
   ]
  },
  {
   "cell_type": "code",
   "execution_count": null,
   "id": "eb027f69-3890-4ea6-9265-cccd95e7c90f",
   "metadata": {
    "tags": []
   },
   "outputs": [],
   "source": [
    "# env.finished"
   ]
  },
  {
   "cell_type": "code",
   "execution_count": null,
   "id": "4a6f7120-01a8-4952-a292-d062d2ad5cf3",
   "metadata": {
    "tags": []
   },
   "outputs": [],
   "source": [
    "# selected_tensor[0][0] = 0\n",
    "# selected_tensor[0][1] = 0\n",
    "# selected_tensor[0][2] = 0"
   ]
  },
  {
   "cell_type": "code",
   "execution_count": null,
   "id": "45fff5ea-fe2b-4467-992d-cb295617db33",
   "metadata": {
    "tags": []
   },
   "outputs": [],
   "source": [
    "# env.step(selected_tensor)"
   ]
  },
  {
   "cell_type": "code",
   "execution_count": null,
   "id": "547b95d9-fbe2-46c9-82d0-26131f040088",
   "metadata": {
    "tags": []
   },
   "outputs": [],
   "source": [
    "# env.ninf_mask"
   ]
  },
  {
   "cell_type": "code",
   "execution_count": null,
   "id": "e2b1ec53-4233-4000-bddf-21c3402abd71",
   "metadata": {
    "tags": []
   },
   "outputs": [],
   "source": [
    "# env.finished"
   ]
  },
  {
   "cell_type": "markdown",
   "id": "a024e3b6-4fed-4266-b93a-9164c530af73",
   "metadata": {},
   "source": [
    "check for len too large "
   ]
  },
  {
   "cell_type": "code",
   "execution_count": null,
   "id": "bf8c8868-5b18-4ffe-aae9-bd98ee73cd17",
   "metadata": {
    "tags": []
   },
   "outputs": [],
   "source": [
    "# env.reset()"
   ]
  },
  {
   "cell_type": "code",
   "execution_count": null,
   "id": "fb54fb96-3a2d-4193-905e-44d22ef4c50e",
   "metadata": {
    "tags": []
   },
   "outputs": [],
   "source": [
    "# env.pre_step()"
   ]
  },
  {
   "cell_type": "code",
   "execution_count": null,
   "id": "8e369742-36a9-4eaf-babe-15ed703559bc",
   "metadata": {
    "tags": []
   },
   "outputs": [],
   "source": [
    "selected_tensor = torch.randint(1, pomo_size + 1, (batch_size, pomo_size))\n",
    "selected_tensor"
   ]
  },
  {
   "cell_type": "code",
   "execution_count": null,
   "id": "82119636-51f9-4ea1-9c27-81b9d5a838f4",
   "metadata": {
    "tags": []
   },
   "outputs": [],
   "source": [
    "# env.step(selected_tensor)"
   ]
  },
  {
   "cell_type": "code",
   "execution_count": null,
   "id": "b5f04917-1b69-4af4-9552-94c66ceba6ef",
   "metadata": {
    "tags": []
   },
   "outputs": [],
   "source": [
    "# env.ninf_mask"
   ]
  },
  {
   "cell_type": "code",
   "execution_count": null,
   "id": "13ea1078-8ba3-4a09-adb8-b28ee1ad8b32",
   "metadata": {
    "tags": []
   },
   "outputs": [],
   "source": [
    "env.len_to_depot"
   ]
  },
  {
   "cell_type": "code",
   "execution_count": null,
   "id": "77cb755c-1a4d-42e0-bf94-993cbe672646",
   "metadata": {
    "tags": []
   },
   "outputs": [],
   "source": [
    "env.remaining_len"
   ]
  },
  {
   "cell_type": "code",
   "execution_count": null,
   "id": "b0fc01e9-00ff-47bf-8289-b53ebe09dd56",
   "metadata": {
    "tags": []
   },
   "outputs": [],
   "source": [
    "env.node_xy"
   ]
  },
  {
   "cell_type": "code",
   "execution_count": null,
   "id": "f5759a5a-45db-49fc-8244-4fdaa7ac1ebd",
   "metadata": {
    "tags": []
   },
   "outputs": [],
   "source": [
    "env.last_node"
   ]
  },
  {
   "cell_type": "code",
   "execution_count": null,
   "id": "3d1e2653-3f21-405f-a8eb-fc9322df4cb4",
   "metadata": {},
   "outputs": [],
   "source": []
  },
  {
   "cell_type": "code",
   "execution_count": null,
   "id": "6e7c3023-49ae-4666-835b-9cce67eb1c99",
   "metadata": {},
   "outputs": [],
   "source": []
  },
  {
   "cell_type": "markdown",
   "id": "00ef92e5-b475-4ea8-b676-6dd874ac08a4",
   "metadata": {},
   "source": [
    "# caclulate two distance node"
   ]
  },
  {
   "cell_type": "code",
   "execution_count": 13,
   "id": "e201cdae-89f4-4dba-91a1-1270f89da0a0",
   "metadata": {
    "tags": []
   },
   "outputs": [],
   "source": [
    "selected_len = env.calculate_two_distance()"
   ]
  },
  {
   "cell_type": "code",
   "execution_count": 14,
   "id": "b8d7af49-5500-4d12-af17-1d3967a909a0",
   "metadata": {
    "tags": []
   },
   "outputs": [
    {
     "data": {
      "text/plain": [
       "tensor([[0.3805, 0.7027, 0.5085],\n",
       "        [0.4325, 0.2566, 0.4325]])"
      ]
     },
     "execution_count": 14,
     "metadata": {},
     "output_type": "execute_result"
    }
   ],
   "source": [
    "selected_len"
   ]
  },
  {
   "cell_type": "code",
   "execution_count": 15,
   "id": "13c8a671-51b4-42cb-b7a3-7429381761b9",
   "metadata": {
    "tags": []
   },
   "outputs": [
    {
     "data": {
      "text/plain": [
       "tensor([[[0.0818, 0.0269],\n",
       "         [0.9233, 0.7080],\n",
       "         [0.8004, 0.0124]],\n",
       "\n",
       "        [[0.0549, 0.0404],\n",
       "         [0.0987, 0.3150],\n",
       "         [0.0549, 0.0404]]])"
      ]
     },
     "execution_count": 15,
     "metadata": {},
     "output_type": "execute_result"
    }
   ],
   "source": [
    "env.node_xy_current"
   ]
  },
  {
   "cell_type": "code",
   "execution_count": 16,
   "id": "ab43a099-e159-48f1-8f31-8108e3138684",
   "metadata": {
    "tags": []
   },
   "outputs": [
    {
     "data": {
      "text/plain": [
       "tensor([[2, 1, 3],\n",
       "        [1, 3, 1]])"
      ]
     },
     "execution_count": 16,
     "metadata": {},
     "output_type": "execute_result"
    }
   ],
   "source": [
    "env.current_node"
   ]
  },
  {
   "cell_type": "code",
   "execution_count": 17,
   "id": "0e09f291-7a0d-4472-b2db-617567fffba3",
   "metadata": {
    "tags": []
   },
   "outputs": [
    {
     "data": {
      "text/plain": [
       "tensor([[0, 0, 0],\n",
       "        [0, 0, 0]])"
      ]
     },
     "execution_count": 17,
     "metadata": {},
     "output_type": "execute_result"
    }
   ],
   "source": [
    "env.last_node"
   ]
  },
  {
   "cell_type": "code",
   "execution_count": null,
   "id": "105ca58e-21c6-4efe-a6d7-1dd97cf40599",
   "metadata": {
    "tags": []
   },
   "outputs": [],
   "source": [
    "env.node_xy_last"
   ]
  },
  {
   "cell_type": "code",
   "execution_count": null,
   "id": "c438c870-5c05-4224-8731-459da5f1b404",
   "metadata": {
    "tags": []
   },
   "outputs": [],
   "source": [
    "env.depot_node_xy"
   ]
  },
  {
   "cell_type": "code",
   "execution_count": null,
   "id": "b03c6cd1-a6c8-4559-bb08-af44be53f6e9",
   "metadata": {
    "tags": []
   },
   "outputs": [],
   "source": [
    "env.last_node"
   ]
  },
  {
   "cell_type": "code",
   "execution_count": null,
   "id": "dcef56b8-ae57-4abc-a751-e4d90c0bc58a",
   "metadata": {
    "tags": []
   },
   "outputs": [],
   "source": [
    "selected_len"
   ]
  },
  {
   "cell_type": "code",
   "execution_count": null,
   "id": "d46e6686-7489-4b7e-b6e9-ad837685495f",
   "metadata": {
    "tags": []
   },
   "outputs": [],
   "source": [
    "node_xy_last"
   ]
  },
  {
   "cell_type": "code",
   "execution_count": null,
   "id": "3c027ff9-009d-465b-9238-8c46feda9e35",
   "metadata": {
    "tags": []
   },
   "outputs": [],
   "source": [
    "selected_tensor"
   ]
  },
  {
   "cell_type": "code",
   "execution_count": null,
   "id": "a5675e55-30c0-475e-8a4b-41b22c6be01c",
   "metadata": {
    "tags": []
   },
   "outputs": [],
   "source": [
    "env.node_xy"
   ]
  },
  {
   "cell_type": "code",
   "execution_count": null,
   "id": "62d48788-4dd0-4f06-aa57-a15e8e79351b",
   "metadata": {},
   "outputs": [],
   "source": [
    "tensor([[3, 2, 2],\n",
    "        [1, 1, 2]])"
   ]
  },
  {
   "cell_type": "code",
   "execution_count": null,
   "id": "a3ec814e-f380-4e11-a374-bbd5837361ef",
   "metadata": {
    "tags": []
   },
   "outputs": [],
   "source": [
    "node_xy_last"
   ]
  },
  {
   "cell_type": "code",
   "execution_count": null,
   "id": "ce1c8791-6c48-4991-b3a2-861a39626511",
   "metadata": {
    "tags": []
   },
   "outputs": [],
   "source": [
    "env.depot_node_xy"
   ]
  },
  {
   "cell_type": "code",
   "execution_count": null,
   "id": "a9558aed-f6e6-484c-acd0-26bd5a65be25",
   "metadata": {},
   "outputs": [],
   "source": []
  },
  {
   "cell_type": "code",
   "execution_count": null,
   "id": "12f316f2-2218-4bff-bd52-bf73c42b0e69",
   "metadata": {},
   "outputs": [],
   "source": []
  },
  {
   "cell_type": "code",
   "execution_count": null,
   "id": "4f5dd677-25db-4c6f-ab8f-ccaca824844f",
   "metadata": {},
   "outputs": [],
   "source": []
  },
  {
   "cell_type": "markdown",
   "id": "84c07c67-e332-4f0c-bd42-0e708bb2cde4",
   "metadata": {},
   "source": [
    "## len to depot "
   ]
  },
  {
   "cell_type": "code",
   "execution_count": 18,
   "id": "1fc8c2e5-4e12-4ce8-8861-b3e664c48ef1",
   "metadata": {
    "tags": []
   },
   "outputs": [
    {
     "data": {
      "text/plain": [
       "tensor([[0.7027, 0.3805, 0.5085],\n",
       "        [0.4325, 0.1469, 0.2566]])"
      ]
     },
     "execution_count": 18,
     "metadata": {},
     "output_type": "execute_result"
    }
   ],
   "source": [
    "env.calculate_len_to_depot()"
   ]
  },
  {
   "cell_type": "code",
   "execution_count": 19,
   "id": "2e313eaf-0a2c-423a-b7ba-58a144782cb1",
   "metadata": {
    "tags": []
   },
   "outputs": [
    {
     "data": {
      "text/plain": [
       "tensor([[[0.3672, 0.2785],\n",
       "         [0.3672, 0.2785],\n",
       "         [0.3672, 0.2785]],\n",
       "\n",
       "        [[0.3523, 0.3545],\n",
       "         [0.3523, 0.3545],\n",
       "         [0.3523, 0.3545]]])"
      ]
     },
     "execution_count": 19,
     "metadata": {},
     "output_type": "execute_result"
    }
   ],
   "source": [
    "env.depot_xy_expanded"
   ]
  },
  {
   "cell_type": "code",
   "execution_count": 20,
   "id": "f7b81701-0d5c-44ba-b19a-018d5ffa7fba",
   "metadata": {
    "tags": []
   },
   "outputs": [
    {
     "data": {
      "text/plain": [
       "tensor([[0.7027, 0.3805, 0.5085],\n",
       "        [0.4325, 0.1469, 0.2566]])"
      ]
     },
     "execution_count": 20,
     "metadata": {},
     "output_type": "execute_result"
    }
   ],
   "source": [
    "env.len_to_depot"
   ]
  },
  {
   "cell_type": "code",
   "execution_count": null,
   "id": "f650ae87-3c87-4d96-adf3-4f29c7182ee0",
   "metadata": {},
   "outputs": [],
   "source": []
  },
  {
   "cell_type": "markdown",
   "id": "2200f0f4-de12-4468-a3ee-3acfba65a139",
   "metadata": {},
   "source": [
    "# remaining len "
   ]
  },
  {
   "cell_type": "code",
   "execution_count": 21,
   "id": "c33ccc7e-a18c-480b-ab2a-6eb15d306c3e",
   "metadata": {
    "tags": []
   },
   "outputs": [
    {
     "data": {
      "text/plain": [
       "tensor([[0.6195, 0.2973, 0.4915],\n",
       "        [0.5675, 0.7434, 0.5675]])"
      ]
     },
     "execution_count": 21,
     "metadata": {},
     "output_type": "execute_result"
    }
   ],
   "source": [
    "env.remaining_len"
   ]
  },
  {
   "cell_type": "code",
   "execution_count": null,
   "id": "ecf3eb6d-6db3-4b3a-bbc5-929a9f588920",
   "metadata": {
    "tags": []
   },
   "outputs": [],
   "source": [
    "selected_len"
   ]
  },
  {
   "cell_type": "code",
   "execution_count": null,
   "id": "0aef9cb5-350c-4b04-acee-17ee894e4f27",
   "metadata": {
    "tags": []
   },
   "outputs": [],
   "source": [
    "env.len_to_depot"
   ]
  },
  {
   "cell_type": "code",
   "execution_count": null,
   "id": "316dcd78-b73f-44a7-a282-6824b959a630",
   "metadata": {},
   "outputs": [],
   "source": []
  },
  {
   "cell_type": "markdown",
   "id": "8f9645b4-b2a5-48c4-8323-4c6b834b0ce9",
   "metadata": {},
   "source": [
    "future "
   ]
  },
  {
   "cell_type": "code",
   "execution_count": 23,
   "id": "f30acc4b-3ef4-4373-98bb-56bd22cc7424",
   "metadata": {
    "tags": []
   },
   "outputs": [
    {
     "data": {
      "text/plain": [
       "tensor([[1.0826, 1.0826, 0.0000],\n",
       "        [0.0000, 0.1295, 0.2781]])"
      ]
     },
     "execution_count": 23,
     "metadata": {},
     "output_type": "execute_result"
    }
   ],
   "source": [
    "env.calculate_future_len()"
   ]
  },
  {
   "cell_type": "code",
   "execution_count": 24,
   "id": "231e330f-c331-456a-a41e-788add080185",
   "metadata": {
    "tags": []
   },
   "outputs": [
    {
     "data": {
      "text/plain": [
       "tensor([[[0.0818, 0.0269],\n",
       "         [0.9233, 0.7080],\n",
       "         [0.8004, 0.0124]],\n",
       "\n",
       "        [[0.0549, 0.0404],\n",
       "         [0.0987, 0.3150],\n",
       "         [0.0549, 0.0404]]])"
      ]
     },
     "execution_count": 24,
     "metadata": {},
     "output_type": "execute_result"
    }
   ],
   "source": [
    "env.node_xy_current"
   ]
  },
  {
   "cell_type": "code",
   "execution_count": 25,
   "id": "4b16d1f5-e029-4cf9-abd1-7c00238fa2f6",
   "metadata": {
    "tags": []
   },
   "outputs": [
    {
     "data": {
      "text/plain": [
       "tensor([[[0.9233, 0.7080],\n",
       "         [0.0818, 0.0269],\n",
       "         [0.8004, 0.0124]],\n",
       "\n",
       "        [[0.0549, 0.0404],\n",
       "         [0.2242, 0.2826],\n",
       "         [0.0987, 0.3150]]])"
      ]
     },
     "execution_count": 25,
     "metadata": {},
     "output_type": "execute_result"
    }
   ],
   "source": [
    "env.node_xy"
   ]
  },
  {
   "cell_type": "code",
   "execution_count": null,
   "id": "2002171f-f28f-45cc-be97-bdd258f925b5",
   "metadata": {},
   "outputs": [],
   "source": []
  },
  {
   "cell_type": "code",
   "execution_count": null,
   "id": "36508d9f-4036-49de-ae02-f84f3d7525db",
   "metadata": {},
   "outputs": [],
   "source": []
  },
  {
   "cell_type": "code",
   "execution_count": null,
   "id": "7d21e2d8-1387-4997-bb64-4217f702e6e1",
   "metadata": {},
   "outputs": [],
   "source": []
  },
  {
   "cell_type": "code",
   "execution_count": null,
   "id": "2a3e8698-20be-4705-af3c-3dfde424ccc3",
   "metadata": {},
   "outputs": [],
   "source": []
  },
  {
   "cell_type": "markdown",
   "id": "3915d431-f946-48bb-a46c-24add45cdd5b",
   "metadata": {},
   "source": [
    "# Tut\n"
   ]
  },
  {
   "cell_type": "code",
   "execution_count": null,
   "id": "5aac785d-b2e3-4e0e-8c36-7d5820de3154",
   "metadata": {},
   "outputs": [],
   "source": []
  },
  {
   "cell_type": "code",
   "execution_count": null,
   "id": "e3a0f35a-d29b-472b-85ad-8a79fbc62f57",
   "metadata": {},
   "outputs": [],
   "source": []
  },
  {
   "cell_type": "code",
   "execution_count": null,
   "id": "40ea8c13-f5db-473f-b296-276b6e76b81e",
   "metadata": {},
   "outputs": [],
   "source": []
  },
  {
   "cell_type": "code",
   "execution_count": null,
   "id": "98de93ba-52a7-4dd8-92b5-b685335cf9d1",
   "metadata": {},
   "outputs": [],
   "source": []
  },
  {
   "cell_type": "code",
   "execution_count": null,
   "id": "b9d7af1b-a29d-4137-b9aa-e179f9262692",
   "metadata": {},
   "outputs": [],
   "source": []
  },
  {
   "cell_type": "code",
   "execution_count": null,
   "id": "a0a79f24-fba6-41e9-8d75-1730bf73f48e",
   "metadata": {},
   "outputs": [],
   "source": []
  }
 ],
 "metadata": {
  "kernelspec": {
   "display_name": "Python 3 (ipykernel)",
   "language": "python",
   "name": "python3"
  },
  "language_info": {
   "codemirror_mode": {
    "name": "ipython",
    "version": 3
   },
   "file_extension": ".py",
   "mimetype": "text/x-python",
   "name": "python",
   "nbconvert_exporter": "python",
   "pygments_lexer": "ipython3",
   "version": "3.7.6"
  },
  "widgets": {
   "application/vnd.jupyter.widget-state+json": {
    "state": {},
    "version_major": 2,
    "version_minor": 0
   }
  }
 },
 "nbformat": 4,
 "nbformat_minor": 5
}
