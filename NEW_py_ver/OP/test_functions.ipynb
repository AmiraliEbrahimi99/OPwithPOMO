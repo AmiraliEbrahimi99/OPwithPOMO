{
 "cells": [
  {
   "cell_type": "markdown",
   "id": "9f002c31-1aaa-4b9d-a894-26263d887d96",
   "metadata": {},
   "source": [
    "# test problem def "
   ]
  },
  {
   "cell_type": "code",
   "execution_count": 1,
   "id": "aa7aaef9-acca-417c-b850-eb09f5d72996",
   "metadata": {
    "tags": []
   },
   "outputs": [],
   "source": [
    "import OPProblemDef as OP "
   ]
  },
  {
   "cell_type": "code",
   "execution_count": 6,
   "id": "c43bc679-3994-4235-b58a-432b305dd8c0",
   "metadata": {
    "tags": []
   },
   "outputs": [],
   "source": [
    "depot_xy , node_xy , prize = OP.get_random_problems(2 , 6 )"
   ]
  },
  {
   "cell_type": "code",
   "execution_count": 7,
   "id": "85cba300-eb9d-473e-a208-c8e435d26b53",
   "metadata": {
    "tags": []
   },
   "outputs": [
    {
     "data": {
      "text/plain": [
       "tensor([[3, 1, 1, 7, 4, 8],\n",
       "        [6, 4, 7, 6, 8, 3]])"
      ]
     },
     "execution_count": 7,
     "metadata": {},
     "output_type": "execute_result"
    }
   ],
   "source": [
    "prize"
   ]
  },
  {
   "cell_type": "code",
   "execution_count": 8,
   "id": "ba4ee1c0-ef1f-4857-9786-725948d502e6",
   "metadata": {
    "tags": []
   },
   "outputs": [
    {
     "data": {
      "text/plain": [
       "tensor([[[0.7142, 0.9785],\n",
       "         [0.3797, 0.8063],\n",
       "         [0.6676, 0.9809],\n",
       "         [0.5806, 0.2437],\n",
       "         [0.7208, 0.5503],\n",
       "         [0.8088, 0.4908]],\n",
       "\n",
       "        [[0.6723, 0.4660],\n",
       "         [0.4548, 0.4030],\n",
       "         [0.9281, 0.4058],\n",
       "         [0.9038, 0.1128],\n",
       "         [0.0692, 0.9360],\n",
       "         [0.1895, 0.3226]]])"
      ]
     },
     "execution_count": 8,
     "metadata": {},
     "output_type": "execute_result"
    }
   ],
   "source": [
    "node_xy"
   ]
  },
  {
   "cell_type": "code",
   "execution_count": 9,
   "id": "ace9974d-9f58-406c-a8c0-20daa2ef6af8",
   "metadata": {
    "tags": []
   },
   "outputs": [
    {
     "data": {
      "text/plain": [
       "tensor([[[0.4605, 0.8923]],\n",
       "\n",
       "        [[0.6288, 0.5142]]])"
      ]
     },
     "execution_count": 9,
     "metadata": {},
     "output_type": "execute_result"
    }
   ],
   "source": [
    "depot_xy"
   ]
  },
  {
   "cell_type": "markdown",
   "id": "3a27cdd8-e038-4192-a616-5a70518aa386",
   "metadata": {},
   "source": [
    "# test env"
   ]
  },
  {
   "cell_type": "code",
   "execution_count": 1,
   "id": "d3baaac1-948e-4826-93e2-5a0a3ab7385b",
   "metadata": {},
   "outputs": [],
   "source": [
    "from POMO import OPEnv"
   ]
  },
  {
   "cell_type": "code",
   "execution_count": 2,
   "id": "89b9a948-7ef2-4daa-b79b-1030bf165074",
   "metadata": {
    "tags": []
   },
   "outputs": [],
   "source": [
    "stat_zero  = OPEnv.Reset_state()"
   ]
  },
  {
   "cell_type": "code",
   "execution_count": 5,
   "id": "7c1ca59e-6c9f-4d9a-8670-b9e5d0d73f08",
   "metadata": {
    "tags": []
   },
   "outputs": [],
   "source": [
    "stat_zero.node_xy"
   ]
  },
  {
   "cell_type": "code",
   "execution_count": null,
   "id": "8fb0dbe1-fdfe-4d27-8245-9c0c2f18d469",
   "metadata": {},
   "outputs": [],
   "source": []
  }
 ],
 "metadata": {
  "kernelspec": {
   "display_name": "Python 3 (ipykernel)",
   "language": "python",
   "name": "python3"
  },
  "language_info": {
   "codemirror_mode": {
    "name": "ipython",
    "version": 3
   },
   "file_extension": ".py",
   "mimetype": "text/x-python",
   "name": "python",
   "nbconvert_exporter": "python",
   "pygments_lexer": "ipython3",
   "version": "3.7.6"
  },
  "widgets": {
   "application/vnd.jupyter.widget-state+json": {
    "state": {},
    "version_major": 2,
    "version_minor": 0
   }
  }
 },
 "nbformat": 4,
 "nbformat_minor": 5
}
